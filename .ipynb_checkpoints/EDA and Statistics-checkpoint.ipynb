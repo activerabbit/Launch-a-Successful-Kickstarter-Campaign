{
 "cells": [
  {
   "cell_type": "markdown",
   "metadata": {},
   "source": [
    "# Table of Contents\n",
    "1. [Data Wrangling](#Data_wrangling)<br>\n",
    "    1a. [Dataframe cleaning](#cleaning)<br>\n",
    "    1b. [Text preprocessing](#text)<br>\n",
    "\n",
    "2. [EDA](#EDA)<br>"
   ]
  },
  {
   "cell_type": "markdown",
   "metadata": {},
   "source": [
    "<a id='Data_wrangling'></a>"
   ]
  },
  {
   "cell_type": "markdown",
   "metadata": {},
   "source": [
    "# 1. Data Wrangling\n",
    "The datasets were found on webrobots.io where they crawl all Kickstarter projects once a month. For this project, the 2019-08-15 dataset was used with 56 datasets.\n",
    "<br>\n",
    "The data wrangling portion of this project is straightford. First we would have to eliminate features that are unrelated to campaign outcome. Also we like to create new features related to year and month to understand any temporal effect on pledge money. Then we would process the summary of campaign"
   ]
  },
  {
   "cell_type": "code",
   "execution_count": 1,
   "metadata": {},
   "outputs": [
    {
     "name": "stderr",
     "output_type": "stream",
     "text": [
      "Using TensorFlow backend.\n"
     ]
    }
   ],
   "source": [
    "import numpy as np\n",
    "import pandas as pd\n",
    "import glob\n",
    "from datetime import datetime\n",
    "import matplotlib.pyplot as plt\n",
    "import seaborn as sns\n",
    "import scipy\n",
    "from keras.layers import Input, Dense, Dropout, Embedding, LSTM, Bidirectional\n",
    "from keras.models import Model\n",
    "from nltk.tokenize import word_tokenize\n",
    "from nltk.corpus import stopwords\n",
    "from langdetect import detect\n",
    "from nltk.stem import WordNetLemmatizer, PorterStemmer\n",
    "from collections import Counter\n",
    "from nltk import ngrams"
   ]
  },
  {
   "cell_type": "code",
   "execution_count": 2,
   "metadata": {},
   "outputs": [],
   "source": [
    "#define path and set up to import csv files\n",
    "path = 'Dataset'\n",
    "all_files = glob.glob(path +\"/*.csv\")"
   ]
  },
  {
   "cell_type": "code",
   "execution_count": 3,
   "metadata": {},
   "outputs": [],
   "source": [
    "#create dataframes from all csv files\n",
    "li = []\n",
    "for filename in all_files:\n",
    "    df = pd.read_csv(filename, index_col = None)\n",
    "    li.append(df)\n",
    "df = pd.concat(li, ignore_index = True)"
   ]
  },
  {
   "cell_type": "code",
   "execution_count": 4,
   "metadata": {},
   "outputs": [
    {
     "data": {
      "text/html": [
       "<div>\n",
       "<style scoped>\n",
       "    .dataframe tbody tr th:only-of-type {\n",
       "        vertical-align: middle;\n",
       "    }\n",
       "\n",
       "    .dataframe tbody tr th {\n",
       "        vertical-align: top;\n",
       "    }\n",
       "\n",
       "    .dataframe thead th {\n",
       "        text-align: right;\n",
       "    }\n",
       "</style>\n",
       "<table border=\"1\" class=\"dataframe\">\n",
       "  <thead>\n",
       "    <tr style=\"text-align: right;\">\n",
       "      <th></th>\n",
       "      <th>backers_count</th>\n",
       "      <th>blurb</th>\n",
       "      <th>category</th>\n",
       "      <th>converted_pledged_amount</th>\n",
       "      <th>country</th>\n",
       "      <th>created_at</th>\n",
       "      <th>creator</th>\n",
       "      <th>currency</th>\n",
       "      <th>currency_symbol</th>\n",
       "      <th>currency_trailing_code</th>\n",
       "      <th>...</th>\n",
       "      <th>slug</th>\n",
       "      <th>source_url</th>\n",
       "      <th>spotlight</th>\n",
       "      <th>staff_pick</th>\n",
       "      <th>state</th>\n",
       "      <th>state_changed_at</th>\n",
       "      <th>static_usd_rate</th>\n",
       "      <th>urls</th>\n",
       "      <th>usd_pledged</th>\n",
       "      <th>usd_type</th>\n",
       "    </tr>\n",
       "  </thead>\n",
       "  <tbody>\n",
       "    <tr>\n",
       "      <td>0</td>\n",
       "      <td>103</td>\n",
       "      <td>Funding the mixing, mastering, and promotion o...</td>\n",
       "      <td>{\"id\":39,\"name\":\"Hip-Hop\",\"slug\":\"music/hip-ho...</td>\n",
       "      <td>5612</td>\n",
       "      <td>US</td>\n",
       "      <td>1456593666</td>\n",
       "      <td>{\"id\":1531055178,\"name\":\"JC Stroebel and Henry...</td>\n",
       "      <td>USD</td>\n",
       "      <td>$</td>\n",
       "      <td>True</td>\n",
       "      <td>...</td>\n",
       "      <td>john-chuck-and-the-class-debut-ep</td>\n",
       "      <td>https://www.kickstarter.com/discover/categorie...</td>\n",
       "      <td>True</td>\n",
       "      <td>True</td>\n",
       "      <td>successful</td>\n",
       "      <td>1459964983</td>\n",
       "      <td>1.000000</td>\n",
       "      <td>{\"web\":{\"project\":\"https://www.kickstarter.com...</td>\n",
       "      <td>5612.0</td>\n",
       "      <td>domestic</td>\n",
       "    </tr>\n",
       "    <tr>\n",
       "      <td>1</td>\n",
       "      <td>318</td>\n",
       "      <td>We follow the challenges and achievements of g...</td>\n",
       "      <td>{\"id\":30,\"name\":\"Documentary\",\"slug\":\"film &amp; v...</td>\n",
       "      <td>26237</td>\n",
       "      <td>US</td>\n",
       "      <td>1495058182</td>\n",
       "      <td>{\"id\":652875854,\"name\":\"Matthew Temple\",\"is_re...</td>\n",
       "      <td>USD</td>\n",
       "      <td>$</td>\n",
       "      <td>True</td>\n",
       "      <td>...</td>\n",
       "      <td>girls-of-summer-big-diamond-dreams</td>\n",
       "      <td>https://www.kickstarter.com/discover/categorie...</td>\n",
       "      <td>True</td>\n",
       "      <td>True</td>\n",
       "      <td>successful</td>\n",
       "      <td>1499054401</td>\n",
       "      <td>1.000000</td>\n",
       "      <td>{\"web\":{\"project\":\"https://www.kickstarter.com...</td>\n",
       "      <td>26237.0</td>\n",
       "      <td>domestic</td>\n",
       "    </tr>\n",
       "    <tr>\n",
       "      <td>2</td>\n",
       "      <td>0</td>\n",
       "      <td>Task No.1 is inspired by the history and expre...</td>\n",
       "      <td>{\"id\":38,\"name\":\"Electronic Music\",\"slug\":\"mus...</td>\n",
       "      <td>0</td>\n",
       "      <td>GB</td>\n",
       "      <td>1357630802</td>\n",
       "      <td>{\"id\":1699678150,\"name\":\"Sonny Phillips\",\"slug...</td>\n",
       "      <td>GBP</td>\n",
       "      <td>£</td>\n",
       "      <td>False</td>\n",
       "      <td>...</td>\n",
       "      <td>task-no1</td>\n",
       "      <td>https://www.kickstarter.com/discover/categorie...</td>\n",
       "      <td>False</td>\n",
       "      <td>False</td>\n",
       "      <td>failed</td>\n",
       "      <td>1362937678</td>\n",
       "      <td>1.614583</td>\n",
       "      <td>{\"web\":{\"project\":\"https://www.kickstarter.com...</td>\n",
       "      <td>0.0</td>\n",
       "      <td>international</td>\n",
       "    </tr>\n",
       "    <tr>\n",
       "      <td>3</td>\n",
       "      <td>22</td>\n",
       "      <td>MAJOR KEY ALERT - Future Heroes is a Denver ra...</td>\n",
       "      <td>{\"id\":39,\"name\":\"Hip-Hop\",\"slug\":\"music/hip-ho...</td>\n",
       "      <td>1575</td>\n",
       "      <td>US</td>\n",
       "      <td>1455591114</td>\n",
       "      <td>{\"id\":518056209,\"name\":\"Future Heroes\",\"is_reg...</td>\n",
       "      <td>USD</td>\n",
       "      <td>$</td>\n",
       "      <td>True</td>\n",
       "      <td>...</td>\n",
       "      <td>future-heroes-sxsw-is-calling</td>\n",
       "      <td>https://www.kickstarter.com/discover/categorie...</td>\n",
       "      <td>True</td>\n",
       "      <td>False</td>\n",
       "      <td>successful</td>\n",
       "      <td>1457935201</td>\n",
       "      <td>1.000000</td>\n",
       "      <td>{\"web\":{\"project\":\"https://www.kickstarter.com...</td>\n",
       "      <td>1575.0</td>\n",
       "      <td>domestic</td>\n",
       "    </tr>\n",
       "    <tr>\n",
       "      <td>4</td>\n",
       "      <td>17</td>\n",
       "      <td>We're traveling to Rhode Island to film Mako a...</td>\n",
       "      <td>{\"id\":30,\"name\":\"Documentary\",\"slug\":\"film &amp; v...</td>\n",
       "      <td>3290</td>\n",
       "      <td>US</td>\n",
       "      <td>1465224753</td>\n",
       "      <td>{\"id\":632937188,\"name\":\"Ryan Walton\",\"is_regis...</td>\n",
       "      <td>USD</td>\n",
       "      <td>$</td>\n",
       "      <td>True</td>\n",
       "      <td>...</td>\n",
       "      <td>pelagic-shark-diving-shoot</td>\n",
       "      <td>https://www.kickstarter.com/discover/categorie...</td>\n",
       "      <td>True</td>\n",
       "      <td>False</td>\n",
       "      <td>successful</td>\n",
       "      <td>1467825676</td>\n",
       "      <td>1.000000</td>\n",
       "      <td>{\"web\":{\"project\":\"https://www.kickstarter.com...</td>\n",
       "      <td>3290.0</td>\n",
       "      <td>domestic</td>\n",
       "    </tr>\n",
       "  </tbody>\n",
       "</table>\n",
       "<p>5 rows × 37 columns</p>\n",
       "</div>"
      ],
      "text/plain": [
       "   backers_count                                              blurb  \\\n",
       "0            103  Funding the mixing, mastering, and promotion o...   \n",
       "1            318  We follow the challenges and achievements of g...   \n",
       "2              0  Task No.1 is inspired by the history and expre...   \n",
       "3             22  MAJOR KEY ALERT - Future Heroes is a Denver ra...   \n",
       "4             17  We're traveling to Rhode Island to film Mako a...   \n",
       "\n",
       "                                            category  \\\n",
       "0  {\"id\":39,\"name\":\"Hip-Hop\",\"slug\":\"music/hip-ho...   \n",
       "1  {\"id\":30,\"name\":\"Documentary\",\"slug\":\"film & v...   \n",
       "2  {\"id\":38,\"name\":\"Electronic Music\",\"slug\":\"mus...   \n",
       "3  {\"id\":39,\"name\":\"Hip-Hop\",\"slug\":\"music/hip-ho...   \n",
       "4  {\"id\":30,\"name\":\"Documentary\",\"slug\":\"film & v...   \n",
       "\n",
       "   converted_pledged_amount country  created_at  \\\n",
       "0                      5612      US  1456593666   \n",
       "1                     26237      US  1495058182   \n",
       "2                         0      GB  1357630802   \n",
       "3                      1575      US  1455591114   \n",
       "4                      3290      US  1465224753   \n",
       "\n",
       "                                             creator currency currency_symbol  \\\n",
       "0  {\"id\":1531055178,\"name\":\"JC Stroebel and Henry...      USD               $   \n",
       "1  {\"id\":652875854,\"name\":\"Matthew Temple\",\"is_re...      USD               $   \n",
       "2  {\"id\":1699678150,\"name\":\"Sonny Phillips\",\"slug...      GBP               £   \n",
       "3  {\"id\":518056209,\"name\":\"Future Heroes\",\"is_reg...      USD               $   \n",
       "4  {\"id\":632937188,\"name\":\"Ryan Walton\",\"is_regis...      USD               $   \n",
       "\n",
       "   currency_trailing_code  ...                                slug  \\\n",
       "0                    True  ...   john-chuck-and-the-class-debut-ep   \n",
       "1                    True  ...  girls-of-summer-big-diamond-dreams   \n",
       "2                   False  ...                            task-no1   \n",
       "3                    True  ...       future-heroes-sxsw-is-calling   \n",
       "4                    True  ...          pelagic-shark-diving-shoot   \n",
       "\n",
       "                                          source_url  spotlight staff_pick  \\\n",
       "0  https://www.kickstarter.com/discover/categorie...       True       True   \n",
       "1  https://www.kickstarter.com/discover/categorie...       True       True   \n",
       "2  https://www.kickstarter.com/discover/categorie...      False      False   \n",
       "3  https://www.kickstarter.com/discover/categorie...       True      False   \n",
       "4  https://www.kickstarter.com/discover/categorie...       True      False   \n",
       "\n",
       "        state  state_changed_at  static_usd_rate  \\\n",
       "0  successful        1459964983         1.000000   \n",
       "1  successful        1499054401         1.000000   \n",
       "2      failed        1362937678         1.614583   \n",
       "3  successful        1457935201         1.000000   \n",
       "4  successful        1467825676         1.000000   \n",
       "\n",
       "                                                urls  usd_pledged  \\\n",
       "0  {\"web\":{\"project\":\"https://www.kickstarter.com...       5612.0   \n",
       "1  {\"web\":{\"project\":\"https://www.kickstarter.com...      26237.0   \n",
       "2  {\"web\":{\"project\":\"https://www.kickstarter.com...          0.0   \n",
       "3  {\"web\":{\"project\":\"https://www.kickstarter.com...       1575.0   \n",
       "4  {\"web\":{\"project\":\"https://www.kickstarter.com...       3290.0   \n",
       "\n",
       "        usd_type  \n",
       "0       domestic  \n",
       "1       domestic  \n",
       "2  international  \n",
       "3       domestic  \n",
       "4       domestic  \n",
       "\n",
       "[5 rows x 37 columns]"
      ]
     },
     "execution_count": 4,
     "metadata": {},
     "output_type": "execute_result"
    }
   ],
   "source": [
    "#merge files\n",
    "df = pd.concat(li, ignore_index = True)\n",
    "df.head()"
   ]
  },
  {
   "cell_type": "markdown",
   "metadata": {},
   "source": [
    "<a id='cleaning'></a>"
   ]
  },
  {
   "cell_type": "markdown",
   "metadata": {},
   "source": [
    "## 1a. Dataframe Cleaning"
   ]
  },
  {
   "cell_type": "code",
   "execution_count": 5,
   "metadata": {},
   "outputs": [
    {
     "name": "stdout",
     "output_type": "stream",
     "text": [
      "<class 'pandas.core.frame.DataFrame'>\n",
      "RangeIndex: 207621 entries, 0 to 207620\n",
      "Data columns (total 37 columns):\n",
      "backers_count               207621 non-null int64\n",
      "blurb                       207613 non-null object\n",
      "category                    207621 non-null object\n",
      "converted_pledged_amount    207621 non-null int64\n",
      "country                     207621 non-null object\n",
      "created_at                  207621 non-null int64\n",
      "creator                     207621 non-null object\n",
      "currency                    207621 non-null object\n",
      "currency_symbol             207621 non-null object\n",
      "currency_trailing_code      207621 non-null bool\n",
      "current_currency            207621 non-null object\n",
      "deadline                    207621 non-null int64\n",
      "disable_communication       207621 non-null bool\n",
      "friends                     444 non-null object\n",
      "fx_rate                     207621 non-null float64\n",
      "goal                        207621 non-null float64\n",
      "id                          207621 non-null int64\n",
      "is_backing                  444 non-null object\n",
      "is_starrable                207621 non-null bool\n",
      "is_starred                  444 non-null object\n",
      "launched_at                 207621 non-null int64\n",
      "location                    207421 non-null object\n",
      "name                        207621 non-null object\n",
      "permissions                 444 non-null object\n",
      "photo                       207621 non-null object\n",
      "pledged                     207621 non-null float64\n",
      "profile                     207621 non-null object\n",
      "slug                        207621 non-null object\n",
      "source_url                  207621 non-null object\n",
      "spotlight                   207621 non-null bool\n",
      "staff_pick                  207621 non-null bool\n",
      "state                       207621 non-null object\n",
      "state_changed_at            207621 non-null int64\n",
      "static_usd_rate             207621 non-null float64\n",
      "urls                        207621 non-null object\n",
      "usd_pledged                 207621 non-null float64\n",
      "usd_type                    207273 non-null object\n",
      "dtypes: bool(5), float64(5), int64(7), object(20)\n",
      "memory usage: 51.7+ MB\n"
     ]
    }
   ],
   "source": [
    "df.info()"
   ]
  },
  {
   "cell_type": "code",
   "execution_count": 6,
   "metadata": {},
   "outputs": [],
   "source": [
    "#drop unrelated features\n",
    "df = df.drop(columns = ['backers_count', 'category', 'converted_pledged_amount','created_at', \n",
    "                             'creator', 'currency', 'currency_symbol', 'currency_trailing_code', \n",
    "                             'current_currency', 'friends', 'id', 'is_backing', 'is_starrable', \n",
    "                             'is_starred', 'location', 'name', 'permissions', 'photo', 'pledged',\n",
    "                            'profile', 'source_url', 'spotlight', 'staff_pick', 'static_usd_rate','urls',\n",
    "                            'usd_pledged', 'usd_type'])"
   ]
  },
  {
   "cell_type": "code",
   "execution_count": 7,
   "metadata": {},
   "outputs": [
    {
     "data": {
      "text/plain": [
       "array(['successful', 'failed', 'canceled', 'live', 'suspended'],\n",
       "      dtype=object)"
      ]
     },
     "execution_count": 7,
     "metadata": {},
     "output_type": "execute_result"
    }
   ],
   "source": [
    "df.state.unique()"
   ]
  },
  {
   "cell_type": "code",
   "execution_count": 8,
   "metadata": {},
   "outputs": [
    {
     "name": "stderr",
     "output_type": "stream",
     "text": [
      "C:\\Users\\sadmin\\Anaconda3\\lib\\site-packages\\ipykernel_launcher.py:2: UserWarning: Boolean Series key will be reindexed to match DataFrame index.\n",
      "  \n"
     ]
    }
   ],
   "source": [
    "#include only successful and unsuccesful \n",
    "df = df[df.state != 'canceled'][df.state != 'live'][df.state != 'suspend']\n",
    "\n",
    "\n",
    "#convert include only US since language \n",
    "df['goal'] = df['goal']*df['fx_rate']\n",
    "df = df[df['disable_communication'] == False]"
   ]
  },
  {
   "cell_type": "code",
   "execution_count": 9,
   "metadata": {},
   "outputs": [],
   "source": [
    "#convert epoch to datetime\n",
    "df['state_changed_at'] = df['state_changed_at'].apply(lambda x: datetime.fromtimestamp(x))\n",
    "df['launched_at'] = df['launched_at'].apply(lambda x: datetime.fromtimestamp(x))\n",
    "df['deadline'] = df['deadline'].apply(lambda x: datetime.fromtimestamp(x))\n",
    "\n",
    "#create new feature for days taken to complete goals\n",
    "df['days_to_state_change'] = df['state_changed_at'] - df['launched_at']\n",
    "df['days_to_state_change'] = df['days_to_state_change'].dt.days\n",
    "\n",
    "#create new feature for length of campaign\n",
    "df['length_of_campaign'] = df['deadline']-df['launched_at']\n",
    "df['length_of_campaign'] = df['length_of_campaign'].dt.days"
   ]
  },
  {
   "cell_type": "code",
   "execution_count": 10,
   "metadata": {},
   "outputs": [],
   "source": [
    "#create launch_month and lauch_year column\n",
    "df['month_launched'] = df['launched_at'].apply(lambda x: x.month)\n",
    "df['year_launched'] = df['launched_at'].apply(lambda x: x.year)\n",
    "\n",
    "#drop the used columns\n",
    "df = df.drop(columns = ['launched_at', 'fx_rate', 'disable_communication', 'state_changed_at', 'deadline'])"
   ]
  },
  {
   "cell_type": "code",
   "execution_count": 11,
   "metadata": {},
   "outputs": [],
   "source": [
    "#remove all null containing columns\n",
    "df = df.dropna()"
   ]
  },
  {
   "cell_type": "markdown",
   "metadata": {},
   "source": [
    "<a id='text'></a>"
   ]
  },
  {
   "cell_type": "markdown",
   "metadata": {},
   "source": [
    "## 1b. Text Preprocessing"
   ]
  },
  {
   "cell_type": "code",
   "execution_count": 12,
   "metadata": {},
   "outputs": [],
   "source": [
    "df = df.rename(columns = {'slug': 'title', 'blurb': 'summary'})\n",
    "df['title'] = df['title'].apply(lambda x: ' '.join(x.split('-')))\n",
    "df['summary'] = df['summary'].apply(lambda x: ' '.join(x.split('-')))"
   ]
  },
  {
   "cell_type": "code",
   "execution_count": 13,
   "metadata": {},
   "outputs": [],
   "source": [
    "#detect english \n",
    "def detector(phrases):\n",
    "    try:\n",
    "        return detect(phrases)\n",
    "    except:\n",
    "        return ''\n",
    "\n",
    "df['language'] = df.title.apply(lambda x: detector(x))"
   ]
  },
  {
   "cell_type": "code",
   "execution_count": 14,
   "metadata": {},
   "outputs": [
    {
     "data": {
      "text/html": [
       "<div>\n",
       "<style scoped>\n",
       "    .dataframe tbody tr th:only-of-type {\n",
       "        vertical-align: middle;\n",
       "    }\n",
       "\n",
       "    .dataframe tbody tr th {\n",
       "        vertical-align: top;\n",
       "    }\n",
       "\n",
       "    .dataframe thead th {\n",
       "        text-align: right;\n",
       "    }\n",
       "</style>\n",
       "<table border=\"1\" class=\"dataframe\">\n",
       "  <thead>\n",
       "    <tr style=\"text-align: right;\">\n",
       "      <th></th>\n",
       "      <th>summary</th>\n",
       "      <th>country</th>\n",
       "      <th>goal</th>\n",
       "      <th>title</th>\n",
       "      <th>state</th>\n",
       "      <th>days_to_state_change</th>\n",
       "      <th>length_of_campaign</th>\n",
       "      <th>month_launched</th>\n",
       "      <th>year_launched</th>\n",
       "    </tr>\n",
       "  </thead>\n",
       "  <tbody>\n",
       "    <tr>\n",
       "      <td>0</td>\n",
       "      <td>Funding the mixing, mastering, and promotion o...</td>\n",
       "      <td>US</td>\n",
       "      <td>5000.00000</td>\n",
       "      <td>john chuck and the class debut ep</td>\n",
       "      <td>successful</td>\n",
       "      <td>30</td>\n",
       "      <td>30</td>\n",
       "      <td>3</td>\n",
       "      <td>2016</td>\n",
       "    </tr>\n",
       "    <tr>\n",
       "      <td>1</td>\n",
       "      <td>We follow the challenges and achievements of g...</td>\n",
       "      <td>US</td>\n",
       "      <td>24042.00000</td>\n",
       "      <td>girls of summer big diamond dreams</td>\n",
       "      <td>successful</td>\n",
       "      <td>26</td>\n",
       "      <td>26</td>\n",
       "      <td>6</td>\n",
       "      <td>2017</td>\n",
       "    </tr>\n",
       "    <tr>\n",
       "      <td>3</td>\n",
       "      <td>MAJOR KEY ALERT   Future Heroes is a Denver ra...</td>\n",
       "      <td>US</td>\n",
       "      <td>500.00000</td>\n",
       "      <td>future heroes sxsw is calling</td>\n",
       "      <td>successful</td>\n",
       "      <td>19</td>\n",
       "      <td>19</td>\n",
       "      <td>2</td>\n",
       "      <td>2016</td>\n",
       "    </tr>\n",
       "    <tr>\n",
       "      <td>4</td>\n",
       "      <td>We're traveling to Rhode Island to film Mako a...</td>\n",
       "      <td>US</td>\n",
       "      <td>2500.00000</td>\n",
       "      <td>pelagic shark diving shoot</td>\n",
       "      <td>successful</td>\n",
       "      <td>30</td>\n",
       "      <td>30</td>\n",
       "      <td>6</td>\n",
       "      <td>2016</td>\n",
       "    </tr>\n",
       "    <tr>\n",
       "      <td>5</td>\n",
       "      <td>In Struggle Town the streets are protected by ...</td>\n",
       "      <td>AU</td>\n",
       "      <td>1019.09097</td>\n",
       "      <td>gorilla my dreams mime of my life</td>\n",
       "      <td>successful</td>\n",
       "      <td>28</td>\n",
       "      <td>28</td>\n",
       "      <td>10</td>\n",
       "      <td>2017</td>\n",
       "    </tr>\n",
       "    <tr>\n",
       "      <td>...</td>\n",
       "      <td>...</td>\n",
       "      <td>...</td>\n",
       "      <td>...</td>\n",
       "      <td>...</td>\n",
       "      <td>...</td>\n",
       "      <td>...</td>\n",
       "      <td>...</td>\n",
       "      <td>...</td>\n",
       "      <td>...</td>\n",
       "    </tr>\n",
       "    <tr>\n",
       "      <td>207616</td>\n",
       "      <td>A night of music, fellowship, and a reflection...</td>\n",
       "      <td>US</td>\n",
       "      <td>500.00000</td>\n",
       "      <td>dantes capstone project who am i</td>\n",
       "      <td>successful</td>\n",
       "      <td>31</td>\n",
       "      <td>31</td>\n",
       "      <td>3</td>\n",
       "      <td>2016</td>\n",
       "    </tr>\n",
       "    <tr>\n",
       "      <td>207617</td>\n",
       "      <td>The Pond of Stars creates gender neutral, affo...</td>\n",
       "      <td>US</td>\n",
       "      <td>2200.00000</td>\n",
       "      <td>the pond of stars</td>\n",
       "      <td>failed</td>\n",
       "      <td>30</td>\n",
       "      <td>30</td>\n",
       "      <td>8</td>\n",
       "      <td>2014</td>\n",
       "    </tr>\n",
       "    <tr>\n",
       "      <td>207618</td>\n",
       "      <td>FLUXO – The first smart design lamp where you ...</td>\n",
       "      <td>AT</td>\n",
       "      <td>55738.62600</td>\n",
       "      <td>fluxo the worlds first truly smart lamp</td>\n",
       "      <td>successful</td>\n",
       "      <td>33</td>\n",
       "      <td>33</td>\n",
       "      <td>12</td>\n",
       "      <td>2015</td>\n",
       "    </tr>\n",
       "    <tr>\n",
       "      <td>207619</td>\n",
       "      <td>Produced by the founder of Blackstone Magic Ba...</td>\n",
       "      <td>HK</td>\n",
       "      <td>3826.37430</td>\n",
       "      <td>next bund18 deck blackstone magic bar playing ...</td>\n",
       "      <td>successful</td>\n",
       "      <td>25</td>\n",
       "      <td>25</td>\n",
       "      <td>1</td>\n",
       "      <td>2019</td>\n",
       "    </tr>\n",
       "    <tr>\n",
       "      <td>207620</td>\n",
       "      <td>A short film about two kindred souls, a man an...</td>\n",
       "      <td>US</td>\n",
       "      <td>7000.00000</td>\n",
       "      <td>transit a new york city fairy tale</td>\n",
       "      <td>successful</td>\n",
       "      <td>33</td>\n",
       "      <td>33</td>\n",
       "      <td>11</td>\n",
       "      <td>2018</td>\n",
       "    </tr>\n",
       "  </tbody>\n",
       "</table>\n",
       "<p>140786 rows × 9 columns</p>\n",
       "</div>"
      ],
      "text/plain": [
       "                                                  summary country  \\\n",
       "0       Funding the mixing, mastering, and promotion o...      US   \n",
       "1       We follow the challenges and achievements of g...      US   \n",
       "3       MAJOR KEY ALERT   Future Heroes is a Denver ra...      US   \n",
       "4       We're traveling to Rhode Island to film Mako a...      US   \n",
       "5       In Struggle Town the streets are protected by ...      AU   \n",
       "...                                                   ...     ...   \n",
       "207616  A night of music, fellowship, and a reflection...      US   \n",
       "207617  The Pond of Stars creates gender neutral, affo...      US   \n",
       "207618  FLUXO – The first smart design lamp where you ...      AT   \n",
       "207619  Produced by the founder of Blackstone Magic Ba...      HK   \n",
       "207620  A short film about two kindred souls, a man an...      US   \n",
       "\n",
       "               goal                                              title  \\\n",
       "0        5000.00000                  john chuck and the class debut ep   \n",
       "1       24042.00000                 girls of summer big diamond dreams   \n",
       "3         500.00000                      future heroes sxsw is calling   \n",
       "4        2500.00000                         pelagic shark diving shoot   \n",
       "5        1019.09097                  gorilla my dreams mime of my life   \n",
       "...             ...                                                ...   \n",
       "207616    500.00000                   dantes capstone project who am i   \n",
       "207617   2200.00000                                  the pond of stars   \n",
       "207618  55738.62600            fluxo the worlds first truly smart lamp   \n",
       "207619   3826.37430  next bund18 deck blackstone magic bar playing ...   \n",
       "207620   7000.00000                 transit a new york city fairy tale   \n",
       "\n",
       "             state  days_to_state_change  length_of_campaign  month_launched  \\\n",
       "0       successful                    30                  30               3   \n",
       "1       successful                    26                  26               6   \n",
       "3       successful                    19                  19               2   \n",
       "4       successful                    30                  30               6   \n",
       "5       successful                    28                  28              10   \n",
       "...            ...                   ...                 ...             ...   \n",
       "207616  successful                    31                  31               3   \n",
       "207617      failed                    30                  30               8   \n",
       "207618  successful                    33                  33              12   \n",
       "207619  successful                    25                  25               1   \n",
       "207620  successful                    33                  33              11   \n",
       "\n",
       "        year_launched  \n",
       "0                2016  \n",
       "1                2017  \n",
       "3                2016  \n",
       "4                2016  \n",
       "5                2017  \n",
       "...               ...  \n",
       "207616           2016  \n",
       "207617           2014  \n",
       "207618           2015  \n",
       "207619           2019  \n",
       "207620           2018  \n",
       "\n",
       "[140786 rows x 9 columns]"
      ]
     },
     "execution_count": 14,
     "metadata": {},
     "output_type": "execute_result"
    }
   ],
   "source": [
    "#remove all non-english\n",
    "df = df[df.language == 'en']\n",
    "df.drop(columns = ['language'])"
   ]
  },
  {
   "cell_type": "code",
   "execution_count": 15,
   "metadata": {},
   "outputs": [],
   "source": [
    "#lowercase and tokenize the title feature\n",
    "df['title'] = df.title.apply(lambda x: x.lower())\n",
    "df['title'] = df.title.apply(lambda x: word_tokenize(x))\n",
    "\n",
    "df['summary'] = df.summary.apply(lambda x: x.lower())\n",
    "df['summary'] = df.summary.apply(lambda x: word_tokenize(x))"
   ]
  },
  {
   "cell_type": "code",
   "execution_count": 16,
   "metadata": {},
   "outputs": [],
   "source": [
    "#remove non-alphabetical words and change n't to not, 've to have, etc, negation handling\n",
    "app = {\"n't\": 'not', \"'d\": 'had', \"'ve\": 'have', \"'re\": 'are', \"'ll\": 'will'}\n",
    "def replacing(tokens):\n",
    "    output = []\n",
    "    for word in tokens:\n",
    "        if word in app:\n",
    "            output.append(app[word])\n",
    "        else:\n",
    "            if word.isalpha():\n",
    "                output.append(word)\n",
    "    return output\n",
    "\n",
    "df['token_title'] = df['title'].apply(lambda x: replacing(x))\n",
    "df['token_summary'] = df['summary'].apply(lambda x: replacing(x))"
   ]
  },
  {
   "cell_type": "code",
   "execution_count": 17,
   "metadata": {},
   "outputs": [],
   "source": [
    "#lemmatizing and stemming\n",
    "ps = PorterStemmer()\n",
    "wnl = WordNetLemmatizer()\n",
    "def lem_stem(tokens):\n",
    "    output = []\n",
    "    for word in tokens:\n",
    "        lem = wnl.lemmatize(word)\n",
    "        ps_lem = ps.stem(lem)\n",
    "        output.append(ps_lem)\n",
    "    return output\n",
    "\n",
    "df['token_title'] = df['token_title'].apply(lambda x: lem_stem(x))\n",
    "df['token_summary'] = df['token_summary'].apply(lambda x: lem_stem(x))"
   ]
  },
  {
   "cell_type": "code",
   "execution_count": 18,
   "metadata": {},
   "outputs": [],
   "source": [
    "#remove stopwords\n",
    "stopwords = set(stopwords.words('english'))\n",
    "def important_words(tokens):\n",
    "    output = []\n",
    "    for token in tokens:\n",
    "        if token not in stopwords:\n",
    "            output.append(token)\n",
    "    return output\n",
    "\n",
    "\n",
    "df['token_title'] = df['token_title'].apply(lambda x: important_words(x))\n",
    "df['token_summary'] = df['token_summary'].apply(lambda x: important_words(x))"
   ]
  },
  {
   "cell_type": "code",
   "execution_count": 19,
   "metadata": {},
   "outputs": [],
   "source": [
    "def bigrams(x):\n",
    "    n = 2\n",
    "    return ngrams(x, n)\n",
    "\n",
    "df['bigram_title'] = df['token_title'].apply(lambda x: list(bigrams(x)))\n",
    "df['bigram_summary'] = df['token_summary'].apply(lambda x: list(bigrams(x)))"
   ]
  },
  {
   "cell_type": "code",
   "execution_count": 20,
   "metadata": {},
   "outputs": [
    {
     "name": "stdout",
     "output_type": "stream",
     "text": [
      "<class 'pandas.core.frame.DataFrame'>\n",
      "Int64Index: 140786 entries, 0 to 207620\n",
      "Data columns (total 13 columns):\n",
      "summary                 140786 non-null object\n",
      "country                 140786 non-null object\n",
      "goal                    140786 non-null float64\n",
      "title                   140786 non-null object\n",
      "state                   140786 non-null object\n",
      "days_to_state_change    140786 non-null int64\n",
      "length_of_campaign      140786 non-null int64\n",
      "month_launched          140786 non-null int64\n",
      "year_launched           140786 non-null int64\n",
      "token_title             140786 non-null object\n",
      "token_summary           140786 non-null object\n",
      "bigram_title            140786 non-null object\n",
      "bigram_summary          140786 non-null object\n",
      "dtypes: float64(1), int64(4), object(8)\n",
      "memory usage: 15.0+ MB\n"
     ]
    }
   ],
   "source": [
    "df = df.drop(columns = ['language'])\n",
    "df.info()"
   ]
  },
  {
   "cell_type": "code",
   "execution_count": 21,
   "metadata": {},
   "outputs": [
    {
     "data": {
      "text/html": [
       "<div>\n",
       "<style scoped>\n",
       "    .dataframe tbody tr th:only-of-type {\n",
       "        vertical-align: middle;\n",
       "    }\n",
       "\n",
       "    .dataframe tbody tr th {\n",
       "        vertical-align: top;\n",
       "    }\n",
       "\n",
       "    .dataframe thead th {\n",
       "        text-align: right;\n",
       "    }\n",
       "</style>\n",
       "<table border=\"1\" class=\"dataframe\">\n",
       "  <thead>\n",
       "    <tr style=\"text-align: right;\">\n",
       "      <th></th>\n",
       "      <th>summary</th>\n",
       "      <th>country</th>\n",
       "      <th>goal</th>\n",
       "      <th>title</th>\n",
       "      <th>state</th>\n",
       "      <th>days_to_state_change</th>\n",
       "      <th>length_of_campaign</th>\n",
       "      <th>month_launched</th>\n",
       "      <th>year_launched</th>\n",
       "      <th>token_title</th>\n",
       "      <th>token_summary</th>\n",
       "      <th>bigram_title</th>\n",
       "      <th>bigram_summary</th>\n",
       "    </tr>\n",
       "  </thead>\n",
       "  <tbody>\n",
       "    <tr>\n",
       "      <td>0</td>\n",
       "      <td>[funding, the, mixing, ,, mastering, ,, and, p...</td>\n",
       "      <td>US</td>\n",
       "      <td>5000.00000</td>\n",
       "      <td>[john, chuck, and, the, class, debut, ep]</td>\n",
       "      <td>successful</td>\n",
       "      <td>30</td>\n",
       "      <td>30</td>\n",
       "      <td>3</td>\n",
       "      <td>2016</td>\n",
       "      <td>[john, chuck, class, debut, ep]</td>\n",
       "      <td>[fund, mix, master, promot, debut, ep, indi, h...</td>\n",
       "      <td>[(john, chuck), (chuck, class), (class, debut)...</td>\n",
       "      <td>[(fund, mix), (mix, master), (master, promot),...</td>\n",
       "    </tr>\n",
       "    <tr>\n",
       "      <td>1</td>\n",
       "      <td>[we, follow, the, challenges, and, achievement...</td>\n",
       "      <td>US</td>\n",
       "      <td>24042.00000</td>\n",
       "      <td>[girls, of, summer, big, diamond, dreams]</td>\n",
       "      <td>successful</td>\n",
       "      <td>26</td>\n",
       "      <td>26</td>\n",
       "      <td>6</td>\n",
       "      <td>2017</td>\n",
       "      <td>[girl, summer, big, diamond, dream]</td>\n",
       "      <td>[follow, challeng, achiev, girl, woman, play, ...</td>\n",
       "      <td>[(girl, summer), (summer, big), (big, diamond)...</td>\n",
       "      <td>[(follow, challeng), (challeng, achiev), (achi...</td>\n",
       "    </tr>\n",
       "    <tr>\n",
       "      <td>3</td>\n",
       "      <td>[major, key, alert, future, heroes, is, a, den...</td>\n",
       "      <td>US</td>\n",
       "      <td>500.00000</td>\n",
       "      <td>[future, heroes, sxsw, is, calling]</td>\n",
       "      <td>successful</td>\n",
       "      <td>19</td>\n",
       "      <td>19</td>\n",
       "      <td>2</td>\n",
       "      <td>2016</td>\n",
       "      <td>[futur, hero, sxsw, call]</td>\n",
       "      <td>[major, key, alert, futur, hero, denver, rap, ...</td>\n",
       "      <td>[(futur, hero), (hero, sxsw), (sxsw, call)]</td>\n",
       "      <td>[(major, key), (key, alert), (alert, futur), (...</td>\n",
       "    </tr>\n",
       "    <tr>\n",
       "      <td>4</td>\n",
       "      <td>[we, 're, traveling, to, rhode, island, to, fi...</td>\n",
       "      <td>US</td>\n",
       "      <td>2500.00000</td>\n",
       "      <td>[pelagic, shark, diving, shoot]</td>\n",
       "      <td>successful</td>\n",
       "      <td>30</td>\n",
       "      <td>30</td>\n",
       "      <td>6</td>\n",
       "      <td>2016</td>\n",
       "      <td>[pelag, shark, dive, shoot]</td>\n",
       "      <td>[travel, rhode, island, film, mako, blue, shar...</td>\n",
       "      <td>[(pelag, shark), (shark, dive), (dive, shoot)]</td>\n",
       "      <td>[(travel, rhode), (rhode, island), (island, fi...</td>\n",
       "    </tr>\n",
       "    <tr>\n",
       "      <td>5</td>\n",
       "      <td>[in, struggle, town, the, streets, are, protec...</td>\n",
       "      <td>AU</td>\n",
       "      <td>1019.09097</td>\n",
       "      <td>[gorilla, my, dreams, mime, of, my, life]</td>\n",
       "      <td>successful</td>\n",
       "      <td>28</td>\n",
       "      <td>28</td>\n",
       "      <td>10</td>\n",
       "      <td>2017</td>\n",
       "      <td>[gorilla, dream, mime, life]</td>\n",
       "      <td>[struggl, town, street, protect, knockaround, ...</td>\n",
       "      <td>[(gorilla, dream), (dream, mime), (mime, life)]</td>\n",
       "      <td>[(struggl, town), (town, street), (street, pro...</td>\n",
       "    </tr>\n",
       "  </tbody>\n",
       "</table>\n",
       "</div>"
      ],
      "text/plain": [
       "                                             summary country         goal  \\\n",
       "0  [funding, the, mixing, ,, mastering, ,, and, p...      US   5000.00000   \n",
       "1  [we, follow, the, challenges, and, achievement...      US  24042.00000   \n",
       "3  [major, key, alert, future, heroes, is, a, den...      US    500.00000   \n",
       "4  [we, 're, traveling, to, rhode, island, to, fi...      US   2500.00000   \n",
       "5  [in, struggle, town, the, streets, are, protec...      AU   1019.09097   \n",
       "\n",
       "                                       title       state  \\\n",
       "0  [john, chuck, and, the, class, debut, ep]  successful   \n",
       "1  [girls, of, summer, big, diamond, dreams]  successful   \n",
       "3        [future, heroes, sxsw, is, calling]  successful   \n",
       "4            [pelagic, shark, diving, shoot]  successful   \n",
       "5  [gorilla, my, dreams, mime, of, my, life]  successful   \n",
       "\n",
       "   days_to_state_change  length_of_campaign  month_launched  year_launched  \\\n",
       "0                    30                  30               3           2016   \n",
       "1                    26                  26               6           2017   \n",
       "3                    19                  19               2           2016   \n",
       "4                    30                  30               6           2016   \n",
       "5                    28                  28              10           2017   \n",
       "\n",
       "                           token_title  \\\n",
       "0      [john, chuck, class, debut, ep]   \n",
       "1  [girl, summer, big, diamond, dream]   \n",
       "3            [futur, hero, sxsw, call]   \n",
       "4          [pelag, shark, dive, shoot]   \n",
       "5         [gorilla, dream, mime, life]   \n",
       "\n",
       "                                       token_summary  \\\n",
       "0  [fund, mix, master, promot, debut, ep, indi, h...   \n",
       "1  [follow, challeng, achiev, girl, woman, play, ...   \n",
       "3  [major, key, alert, futur, hero, denver, rap, ...   \n",
       "4  [travel, rhode, island, film, mako, blue, shar...   \n",
       "5  [struggl, town, street, protect, knockaround, ...   \n",
       "\n",
       "                                        bigram_title  \\\n",
       "0  [(john, chuck), (chuck, class), (class, debut)...   \n",
       "1  [(girl, summer), (summer, big), (big, diamond)...   \n",
       "3        [(futur, hero), (hero, sxsw), (sxsw, call)]   \n",
       "4     [(pelag, shark), (shark, dive), (dive, shoot)]   \n",
       "5    [(gorilla, dream), (dream, mime), (mime, life)]   \n",
       "\n",
       "                                      bigram_summary  \n",
       "0  [(fund, mix), (mix, master), (master, promot),...  \n",
       "1  [(follow, challeng), (challeng, achiev), (achi...  \n",
       "3  [(major, key), (key, alert), (alert, futur), (...  \n",
       "4  [(travel, rhode), (rhode, island), (island, fi...  \n",
       "5  [(struggl, town), (town, street), (street, pro...  "
      ]
     },
     "execution_count": 21,
     "metadata": {},
     "output_type": "execute_result"
    }
   ],
   "source": [
    "df.head()"
   ]
  },
  {
   "cell_type": "code",
   "execution_count": 22,
   "metadata": {},
   "outputs": [
    {
     "data": {
      "text/html": [
       "<div>\n",
       "<style scoped>\n",
       "    .dataframe tbody tr th:only-of-type {\n",
       "        vertical-align: middle;\n",
       "    }\n",
       "\n",
       "    .dataframe tbody tr th {\n",
       "        vertical-align: top;\n",
       "    }\n",
       "\n",
       "    .dataframe thead th {\n",
       "        text-align: right;\n",
       "    }\n",
       "</style>\n",
       "<table border=\"1\" class=\"dataframe\">\n",
       "  <thead>\n",
       "    <tr style=\"text-align: right;\">\n",
       "      <th></th>\n",
       "      <th>goal</th>\n",
       "      <th>days_to_state_change</th>\n",
       "      <th>length_of_campaign</th>\n",
       "      <th>month_launched</th>\n",
       "      <th>year_launched</th>\n",
       "    </tr>\n",
       "  </thead>\n",
       "  <tbody>\n",
       "    <tr>\n",
       "      <td>count</td>\n",
       "      <td>1.407860e+05</td>\n",
       "      <td>140786.000000</td>\n",
       "      <td>140786.000000</td>\n",
       "      <td>140786.000000</td>\n",
       "      <td>140786.000000</td>\n",
       "    </tr>\n",
       "    <tr>\n",
       "      <td>mean</td>\n",
       "      <td>3.629020e+04</td>\n",
       "      <td>32.229895</td>\n",
       "      <td>32.228851</td>\n",
       "      <td>6.269352</td>\n",
       "      <td>2015.895430</td>\n",
       "    </tr>\n",
       "    <tr>\n",
       "      <td>std</td>\n",
       "      <td>9.728037e+05</td>\n",
       "      <td>11.600616</td>\n",
       "      <td>11.599908</td>\n",
       "      <td>3.286367</td>\n",
       "      <td>2.114448</td>\n",
       "    </tr>\n",
       "    <tr>\n",
       "      <td>min</td>\n",
       "      <td>1.000000e-02</td>\n",
       "      <td>1.000000</td>\n",
       "      <td>1.000000</td>\n",
       "      <td>1.000000</td>\n",
       "      <td>2009.000000</td>\n",
       "    </tr>\n",
       "    <tr>\n",
       "      <td>25%</td>\n",
       "      <td>1.500000e+03</td>\n",
       "      <td>30.000000</td>\n",
       "      <td>30.000000</td>\n",
       "      <td>3.000000</td>\n",
       "      <td>2014.000000</td>\n",
       "    </tr>\n",
       "    <tr>\n",
       "      <td>50%</td>\n",
       "      <td>5.000000e+03</td>\n",
       "      <td>30.000000</td>\n",
       "      <td>30.000000</td>\n",
       "      <td>6.000000</td>\n",
       "      <td>2016.000000</td>\n",
       "    </tr>\n",
       "    <tr>\n",
       "      <td>75%</td>\n",
       "      <td>1.205592e+04</td>\n",
       "      <td>33.000000</td>\n",
       "      <td>33.000000</td>\n",
       "      <td>9.000000</td>\n",
       "      <td>2018.000000</td>\n",
       "    </tr>\n",
       "    <tr>\n",
       "      <td>max</td>\n",
       "      <td>1.000000e+08</td>\n",
       "      <td>92.000000</td>\n",
       "      <td>92.000000</td>\n",
       "      <td>12.000000</td>\n",
       "      <td>2019.000000</td>\n",
       "    </tr>\n",
       "  </tbody>\n",
       "</table>\n",
       "</div>"
      ],
      "text/plain": [
       "               goal  days_to_state_change  length_of_campaign  month_launched  \\\n",
       "count  1.407860e+05         140786.000000       140786.000000   140786.000000   \n",
       "mean   3.629020e+04             32.229895           32.228851        6.269352   \n",
       "std    9.728037e+05             11.600616           11.599908        3.286367   \n",
       "min    1.000000e-02              1.000000            1.000000        1.000000   \n",
       "25%    1.500000e+03             30.000000           30.000000        3.000000   \n",
       "50%    5.000000e+03             30.000000           30.000000        6.000000   \n",
       "75%    1.205592e+04             33.000000           33.000000        9.000000   \n",
       "max    1.000000e+08             92.000000           92.000000       12.000000   \n",
       "\n",
       "       year_launched  \n",
       "count  140786.000000  \n",
       "mean     2015.895430  \n",
       "std         2.114448  \n",
       "min      2009.000000  \n",
       "25%      2014.000000  \n",
       "50%      2016.000000  \n",
       "75%      2018.000000  \n",
       "max      2019.000000  "
      ]
     },
     "execution_count": 22,
     "metadata": {},
     "output_type": "execute_result"
    }
   ],
   "source": [
    "df.describe()"
   ]
  },
  {
   "cell_type": "markdown",
   "metadata": {},
   "source": [
    "## Data Wrangling Summary\n",
    "After concatenating the files, all repetitive and unrelated features were dropped from the combined dataset. Datasets with disabled communication was dropped since majority of the population have communications on and they are treated as outliers. The currency of goal was normalized to USD and launch month and launch years were created as new features. Days to reach goal was created as new features. All rows with null values were dropped\n",
    "\n",
    "For text preprocessing step, we want to identify all titles that were not english since for this project, since for this project we would only want to conduct nlp for english and not multilanguage. Then we tokenized the features and removing stop words. Then punctuations and text that are not alphanumeric were removed and finally the text was stemmed and lemmatized."
   ]
  },
  {
   "cell_type": "markdown",
   "metadata": {},
   "source": [
    "<a id='EDA'></a>"
   ]
  },
  {
   "cell_type": "markdown",
   "metadata": {},
   "source": [
    "# 2. EDA"
   ]
  },
  {
   "cell_type": "code",
   "execution_count": 23,
   "metadata": {},
   "outputs": [
    {
     "data": {
      "text/plain": [
       "Text(0.5, 1.0, 'Frequency of Success and Failed Campaigns')"
      ]
     },
     "execution_count": 23,
     "metadata": {},
     "output_type": "execute_result"
    },
    {
     "data": {
      "image/png": "[encoded data removed]",
      "text/plain": [
       "<Figure size 432x288 with 1 Axes>"
      ]
     },
     "metadata": {
      "needs_background": "light"
     },
     "output_type": "display_data"
    }
   ],
   "source": [
    "#create dummy count feature\n",
    "df['count'] = 1\n",
    "\n",
    "df_state = (df.groupby(['state'])\n",
    "            .count()\n",
    "            .reset_index())\n",
    "\n",
    "sns.barplot(x = 'state', y = 'count', data = df_state)\n",
    "plt.title('Frequency of Success and Failed Campaigns')"
   ]
  },
  {
   "cell_type": "code",
   "execution_count": 24,
   "metadata": {
    "scrolled": true
   },
   "outputs": [
    {
     "data": {
      "text/html": [
       "<div>\n",
       "<style scoped>\n",
       "    .dataframe tbody tr th:only-of-type {\n",
       "        vertical-align: middle;\n",
       "    }\n",
       "\n",
       "    .dataframe tbody tr th {\n",
       "        vertical-align: top;\n",
       "    }\n",
       "\n",
       "    .dataframe thead th {\n",
       "        text-align: right;\n",
       "    }\n",
       "</style>\n",
       "<table border=\"1\" class=\"dataframe\">\n",
       "  <thead>\n",
       "    <tr style=\"text-align: right;\">\n",
       "      <th></th>\n",
       "      <th>goal</th>\n",
       "      <th>days_to_state_change</th>\n",
       "      <th>length_of_campaign</th>\n",
       "      <th>month_launched</th>\n",
       "      <th>year_launched</th>\n",
       "      <th>count</th>\n",
       "    </tr>\n",
       "  </thead>\n",
       "  <tbody>\n",
       "    <tr>\n",
       "      <td>count</td>\n",
       "      <td>5.202800e+04</td>\n",
       "      <td>52028.000000</td>\n",
       "      <td>52028.000000</td>\n",
       "      <td>52028.000000</td>\n",
       "      <td>52028.000000</td>\n",
       "      <td>52028.0</td>\n",
       "    </tr>\n",
       "    <tr>\n",
       "      <td>mean</td>\n",
       "      <td>7.965616e+04</td>\n",
       "      <td>34.574268</td>\n",
       "      <td>34.573614</td>\n",
       "      <td>6.367552</td>\n",
       "      <td>2015.791920</td>\n",
       "      <td>1.0</td>\n",
       "    </tr>\n",
       "    <tr>\n",
       "      <td>std</td>\n",
       "      <td>1.596051e+06</td>\n",
       "      <td>12.690669</td>\n",
       "      <td>12.690568</td>\n",
       "      <td>3.308523</td>\n",
       "      <td>1.740709</td>\n",
       "      <td>0.0</td>\n",
       "    </tr>\n",
       "    <tr>\n",
       "      <td>min</td>\n",
       "      <td>1.000000e+00</td>\n",
       "      <td>1.000000</td>\n",
       "      <td>1.000000</td>\n",
       "      <td>1.000000</td>\n",
       "      <td>2009.000000</td>\n",
       "      <td>1.0</td>\n",
       "    </tr>\n",
       "    <tr>\n",
       "      <td>25%</td>\n",
       "      <td>2.457628e+03</td>\n",
       "      <td>30.000000</td>\n",
       "      <td>30.000000</td>\n",
       "      <td>4.000000</td>\n",
       "      <td>2015.000000</td>\n",
       "      <td>1.0</td>\n",
       "    </tr>\n",
       "    <tr>\n",
       "      <td>50%</td>\n",
       "      <td>7.000000e+03</td>\n",
       "      <td>30.000000</td>\n",
       "      <td>30.000000</td>\n",
       "      <td>6.000000</td>\n",
       "      <td>2016.000000</td>\n",
       "      <td>1.0</td>\n",
       "    </tr>\n",
       "    <tr>\n",
       "      <td>75%</td>\n",
       "      <td>2.234208e+04</td>\n",
       "      <td>40.000000</td>\n",
       "      <td>40.000000</td>\n",
       "      <td>9.000000</td>\n",
       "      <td>2017.000000</td>\n",
       "      <td>1.0</td>\n",
       "    </tr>\n",
       "    <tr>\n",
       "      <td>max</td>\n",
       "      <td>1.000000e+08</td>\n",
       "      <td>92.000000</td>\n",
       "      <td>92.000000</td>\n",
       "      <td>12.000000</td>\n",
       "      <td>2019.000000</td>\n",
       "      <td>1.0</td>\n",
       "    </tr>\n",
       "  </tbody>\n",
       "</table>\n",
       "</div>"
      ],
      "text/plain": [
       "               goal  days_to_state_change  length_of_campaign  month_launched  \\\n",
       "count  5.202800e+04          52028.000000        52028.000000    52028.000000   \n",
       "mean   7.965616e+04             34.574268           34.573614        6.367552   \n",
       "std    1.596051e+06             12.690669           12.690568        3.308523   \n",
       "min    1.000000e+00              1.000000            1.000000        1.000000   \n",
       "25%    2.457628e+03             30.000000           30.000000        4.000000   \n",
       "50%    7.000000e+03             30.000000           30.000000        6.000000   \n",
       "75%    2.234208e+04             40.000000           40.000000        9.000000   \n",
       "max    1.000000e+08             92.000000           92.000000       12.000000   \n",
       "\n",
       "       year_launched    count  \n",
       "count   52028.000000  52028.0  \n",
       "mean     2015.791920      1.0  \n",
       "std         1.740709      0.0  \n",
       "min      2009.000000      1.0  \n",
       "25%      2015.000000      1.0  \n",
       "50%      2016.000000      1.0  \n",
       "75%      2017.000000      1.0  \n",
       "max      2019.000000      1.0  "
      ]
     },
     "execution_count": 24,
     "metadata": {},
     "output_type": "execute_result"
    }
   ],
   "source": [
    "df_success = df[df.state == 'successful']\n",
    "df_fail = df[df.state == 'failed']\n",
    "\n",
    "#failed descriptive statistics\n",
    "df_fail.describe()"
   ]
  },
  {
   "cell_type": "code",
   "execution_count": 25,
   "metadata": {
    "scrolled": true
   },
   "outputs": [
    {
     "data": {
      "text/html": [
       "<div>\n",
       "<style scoped>\n",
       "    .dataframe tbody tr th:only-of-type {\n",
       "        vertical-align: middle;\n",
       "    }\n",
       "\n",
       "    .dataframe tbody tr th {\n",
       "        vertical-align: top;\n",
       "    }\n",
       "\n",
       "    .dataframe thead th {\n",
       "        text-align: right;\n",
       "    }\n",
       "</style>\n",
       "<table border=\"1\" class=\"dataframe\">\n",
       "  <thead>\n",
       "    <tr style=\"text-align: right;\">\n",
       "      <th></th>\n",
       "      <th>goal</th>\n",
       "      <th>days_to_state_change</th>\n",
       "      <th>length_of_campaign</th>\n",
       "      <th>month_launched</th>\n",
       "      <th>year_launched</th>\n",
       "      <th>count</th>\n",
       "    </tr>\n",
       "  </thead>\n",
       "  <tbody>\n",
       "    <tr>\n",
       "      <td>count</td>\n",
       "      <td>8.875800e+04</td>\n",
       "      <td>88758.000000</td>\n",
       "      <td>88758.000000</td>\n",
       "      <td>88758.000000</td>\n",
       "      <td>88758.000000</td>\n",
       "      <td>88758.0</td>\n",
       "    </tr>\n",
       "    <tr>\n",
       "      <td>mean</td>\n",
       "      <td>1.087002e+04</td>\n",
       "      <td>30.855675</td>\n",
       "      <td>30.854402</td>\n",
       "      <td>6.211789</td>\n",
       "      <td>2015.956105</td>\n",
       "      <td>1.0</td>\n",
       "    </tr>\n",
       "    <tr>\n",
       "      <td>std</td>\n",
       "      <td>7.827137e+04</td>\n",
       "      <td>10.674476</td>\n",
       "      <td>10.673245</td>\n",
       "      <td>3.271958</td>\n",
       "      <td>2.303379</td>\n",
       "      <td>0.0</td>\n",
       "    </tr>\n",
       "    <tr>\n",
       "      <td>min</td>\n",
       "      <td>1.000000e-02</td>\n",
       "      <td>1.000000</td>\n",
       "      <td>1.000000</td>\n",
       "      <td>1.000000</td>\n",
       "      <td>2009.000000</td>\n",
       "      <td>1.0</td>\n",
       "    </tr>\n",
       "    <tr>\n",
       "      <td>25%</td>\n",
       "      <td>1.114773e+03</td>\n",
       "      <td>28.000000</td>\n",
       "      <td>28.000000</td>\n",
       "      <td>3.000000</td>\n",
       "      <td>2014.000000</td>\n",
       "      <td>1.0</td>\n",
       "    </tr>\n",
       "    <tr>\n",
       "      <td>50%</td>\n",
       "      <td>3.600000e+03</td>\n",
       "      <td>30.000000</td>\n",
       "      <td>30.000000</td>\n",
       "      <td>6.000000</td>\n",
       "      <td>2016.000000</td>\n",
       "      <td>1.0</td>\n",
       "    </tr>\n",
       "    <tr>\n",
       "      <td>75%</td>\n",
       "      <td>1.000000e+04</td>\n",
       "      <td>32.000000</td>\n",
       "      <td>32.000000</td>\n",
       "      <td>9.000000</td>\n",
       "      <td>2018.000000</td>\n",
       "      <td>1.0</td>\n",
       "    </tr>\n",
       "    <tr>\n",
       "      <td>max</td>\n",
       "      <td>1.058978e+07</td>\n",
       "      <td>91.000000</td>\n",
       "      <td>91.000000</td>\n",
       "      <td>12.000000</td>\n",
       "      <td>2019.000000</td>\n",
       "      <td>1.0</td>\n",
       "    </tr>\n",
       "  </tbody>\n",
       "</table>\n",
       "</div>"
      ],
      "text/plain": [
       "               goal  days_to_state_change  length_of_campaign  month_launched  \\\n",
       "count  8.875800e+04          88758.000000        88758.000000    88758.000000   \n",
       "mean   1.087002e+04             30.855675           30.854402        6.211789   \n",
       "std    7.827137e+04             10.674476           10.673245        3.271958   \n",
       "min    1.000000e-02              1.000000            1.000000        1.000000   \n",
       "25%    1.114773e+03             28.000000           28.000000        3.000000   \n",
       "50%    3.600000e+03             30.000000           30.000000        6.000000   \n",
       "75%    1.000000e+04             32.000000           32.000000        9.000000   \n",
       "max    1.058978e+07             91.000000           91.000000       12.000000   \n",
       "\n",
       "       year_launched    count  \n",
       "count   88758.000000  88758.0  \n",
       "mean     2015.956105      1.0  \n",
       "std         2.303379      0.0  \n",
       "min      2009.000000      1.0  \n",
       "25%      2014.000000      1.0  \n",
       "50%      2016.000000      1.0  \n",
       "75%      2018.000000      1.0  \n",
       "max      2019.000000      1.0  "
      ]
     },
     "execution_count": 25,
     "metadata": {},
     "output_type": "execute_result"
    }
   ],
   "source": [
    "#successful descriptive statistics\n",
    "df_success.describe()"
   ]
  },
  {
   "cell_type": "code",
   "execution_count": 26,
   "metadata": {},
   "outputs": [
    {
     "data": {
      "text/plain": [
       "([<matplotlib.patches.Wedge at 0x18838dcb248>,\n",
       "  <matplotlib.patches.Wedge at 0x18838dcb6c8>,\n",
       "  <matplotlib.patches.Wedge at 0x18838dcb688>,\n",
       "  <matplotlib.patches.Wedge at 0x18838dd4348>,\n",
       "  <matplotlib.patches.Wedge at 0x18838dd4cc8>],\n",
       " [Text(-0.7929155430014718, 0.9007135735996661, 'US'),\n",
       "  Text(0.2783646939754668, -1.16726736318118, 'GB'),\n",
       "  Text(0.805618234307582, -0.8893701482235247, 'CA'),\n",
       "  Text(0.9765360485130427, -0.6974075895446884, 'AU'),\n",
       "  Text(1.155517026957273, -0.3236980080442649, 'Other')])"
      ]
     },
     "execution_count": 26,
     "metadata": {},
     "output_type": "execute_result"
    },
    {
     "data": {
      "image/png": "[encoded data removed]",
      "text/plain": [
       "<Figure size 576x576 with 1 Axes>"
      ]
     },
     "metadata": {},
     "output_type": "display_data"
    }
   ],
   "source": [
    "country_count = Counter()\n",
    "for i in df.country:\n",
    "    country_count[i] +=1\n",
    "\n",
    "country = [[],[]]\n",
    "for place, count in country_count.most_common(len(country_count)):\n",
    "    country[0].append(place)\n",
    "    country[1].append(count)\n",
    "    \n",
    "other_total = np.sum(country[1][4:])\n",
    "country = [country[0][:4]+ ['Other'], country[1][:4] + [other_total]]\n",
    "plt.figure(figsize = (8,8))\n",
    "plt.pie(country[1], labels = country[0], explode = len(country[0])*[0.1])"
   ]
  },
  {
   "cell_type": "code",
   "execution_count": 27,
   "metadata": {},
   "outputs": [
    {
     "data": {
      "text/plain": [
       "Text(0.5, 1.0, 'Time Distribution for Length of Successful Campaigns')"
      ]
     },
     "execution_count": 27,
     "metadata": {},
     "output_type": "execute_result"
    },
    {
     "data": {
      "image/png": "[encoded data removed]",
      "text/plain": [
       "<Figure size 432x288 with 1 Axes>"
      ]
     },
     "metadata": {
      "needs_background": "light"
     },
     "output_type": "display_data"
    }
   ],
   "source": [
    "sns.distplot(df_success['days_to_state_change'], kde = False)\n",
    "plt.ylabel('Frequency')\n",
    "plt.xlim((0,60))\n",
    "plt.title('Time Distribution for Length of Successful Campaigns')"
   ]
  },
  {
   "cell_type": "code",
   "execution_count": 28,
   "metadata": {},
   "outputs": [
    {
     "data": {
      "text/plain": [
       "Text(0.5, 1.0, 'Successfulness Frequency of by Year')"
      ]
     },
     "execution_count": 28,
     "metadata": {},
     "output_type": "execute_result"
    },
    {
     "data": {
      "image/png": "[encoded data removed]",
      "text/plain": [
       "<Figure size 432x288 with 1 Axes>"
      ]
     },
     "metadata": {
      "needs_background": "light"
     },
     "output_type": "display_data"
    }
   ],
   "source": [
    "df_year = (df.groupby(['year_launched'])['state']\n",
    "           .value_counts()\n",
    "           .rename('Frequency')\n",
    "           .reset_index().sort_values('year_launched'))\n",
    "\n",
    "sns.lineplot(x = 'year_launched', y = 'Frequency', hue = 'state', data = df_year)\n",
    "plt.title('Successfulness Frequency of by Year')"
   ]
  },
  {
   "cell_type": "code",
   "execution_count": 29,
   "metadata": {},
   "outputs": [
    {
     "name": "stderr",
     "output_type": "stream",
     "text": [
      "C:\\Users\\sadmin\\Anaconda3\\lib\\site-packages\\ipykernel_launcher.py:2: UserWarning: Boolean Series key will be reindexed to match DataFrame index.\n",
      "  \n"
     ]
    },
    {
     "data": {
      "text/plain": [
       "<matplotlib.axes._subplots.AxesSubplot at 0x18847a80988>"
      ]
     },
     "execution_count": 29,
     "metadata": {},
     "output_type": "execute_result"
    },
    {
     "data": {
      "image/png": "[encoded data removed]",
      "text/plain": [
       "<Figure size 432x288 with 1 Axes>"
      ]
     },
     "metadata": {
      "needs_background": "light"
     },
     "output_type": "display_data"
    }
   ],
   "source": [
    "#adjust for incomplete year in 2009 and 2019\n",
    "df_month = (df[df.year_launched > 2010][df.year_launched < 2019]\n",
    "             .groupby(['month_launched'])['state']\n",
    "             .value_counts()\n",
    "             .rename('Frequency')\n",
    "             .reset_index()\n",
    "             .sort_values('month_launched'))\n",
    "\n",
    "sns.lineplot(x = 'month_launched', y = 'Frequency', hue = 'state', data = df_month)"
   ]
  },
  {
   "cell_type": "code",
   "execution_count": 30,
   "metadata": {},
   "outputs": [
    {
     "name": "stderr",
     "output_type": "stream",
     "text": [
      "C:\\Users\\sadmin\\Anaconda3\\lib\\site-packages\\ipykernel_launcher.py:2: UserWarning: Boolean Series key will be reindexed to match DataFrame index.\n",
      "  \n"
     ]
    },
    {
     "data": {
      "text/plain": [
       "Text(0.5, 1.0, 'Successful Campaigns by Month and Year')"
      ]
     },
     "execution_count": 30,
     "metadata": {},
     "output_type": "execute_result"
    },
    {
     "data": {
      "image/png": "[encoded data removed]",
      "text/plain": [
       "<Figure size 432x288 with 1 Axes>"
      ]
     },
     "metadata": {
      "needs_background": "light"
     },
     "output_type": "display_data"
    }
   ],
   "source": [
    "#most recent data\n",
    "df_2015 = (df[df.year_launched > 2014][df.year_launched < 2019]\n",
    "             .groupby(['month_launched', 'year_launched'])['state']\n",
    "             .value_counts()\n",
    "             .rename('Frequency')\n",
    "             .reset_index()\n",
    "             .sort_values('month_launched'))\n",
    "\n",
    "\n",
    "sns.lineplot(x='month_launched', y='Frequency', hue = 'year_launched', \n",
    "             data=df_2015[df_2015.state == 'successful'], palette = 'RdBu')\n",
    "plt.title('Successful Campaigns by Month and Year')"
   ]
  },
  {
   "cell_type": "code",
   "execution_count": 31,
   "metadata": {},
   "outputs": [
    {
     "data": {
      "text/plain": [
       "Text(0.5, 1.0, 'Failed Campaigns by Month and Year')"
      ]
     },
     "execution_count": 31,
     "metadata": {},
     "output_type": "execute_result"
    },
    {
     "data": {
      "image/png": "[encoded data removed]",
      "text/plain": [
       "<Figure size 432x288 with 1 Axes>"
      ]
     },
     "metadata": {
      "needs_background": "light"
     },
     "output_type": "display_data"
    }
   ],
   "source": [
    "sns.lineplot(x='month_launched', y='Frequency', hue = 'year_launched', \n",
    "             data=df_2015[df_2015.state == 'failed'], palette = 'RdBu')\n",
    "plt.title('Failed Campaigns by Month and Year')"
   ]
  },
  {
   "cell_type": "code",
   "execution_count": 32,
   "metadata": {},
   "outputs": [
    {
     "data": {
      "text/plain": [
       "Text(0.5, 1.0, 'Ratio of Successful/Failed Campaign by Year and Month')"
      ]
     },
     "execution_count": 32,
     "metadata": {},
     "output_type": "execute_result"
    },
    {
     "data": {
      "image/png": "[encoded data removed]",
      "text/plain": [
       "<Figure size 432x288 with 1 Axes>"
      ]
     },
     "metadata": {
      "needs_background": "light"
     },
     "output_type": "display_data"
    }
   ],
   "source": [
    "df_successful2015 = df_2015[df_2015.state == 'successful'].reset_index()\n",
    "df_failed2015 = df_2015[df_2015.state == 'failed'].reset_index()\n",
    "\n",
    "df_combined = df_successful2015.merge(right = df_failed2015, how = 'inner', \n",
    "                               left_on = ['month_launched', 'year_launched'], \n",
    "                               right_on = ['month_launched', 'year_launched'])\n",
    "\n",
    "df_combined['ratio'] = df_combined.Frequency_x/df_combined.Frequency_y\n",
    "\n",
    "sns.lineplot(x='month_launched', y = 'ratio', hue = 'year_launched', data = df_combined)\n",
    "plt.title('Ratio of Successful/Failed Campaign by Year and Month')"
   ]
  },
  {
   "cell_type": "code",
   "execution_count": 33,
   "metadata": {},
   "outputs": [
    {
     "data": {
      "text/plain": [
       "(0, 75000)"
      ]
     },
     "execution_count": 33,
     "metadata": {},
     "output_type": "execute_result"
    },
    {
     "data": {
      "image/png": "[encoded data removed]",
      "text/plain": [
       "<Figure size 432x288 with 1 Axes>"
      ]
     },
     "metadata": {
      "needs_background": "light"
     },
     "output_type": "display_data"
    }
   ],
   "source": [
    "sns.boxplot(x = 'state', y = 'goal', data = df)\n",
    "plt.ylim(0,75000)"
   ]
  },
  {
   "cell_type": "code",
   "execution_count": 34,
   "metadata": {},
   "outputs": [
    {
     "name": "stdout",
     "output_type": "stream",
     "text": [
      "95% of failed campaigned lies below $ 60000.0\n",
      "95% of successful campaigned lies below $ 21000.0\n"
     ]
    }
   ],
   "source": [
    "failed_tile = np.percentile(df_fail['goal'], 90)\n",
    "success_tile = np.percentile(df_success['goal'], 90)\n",
    "\n",
    "print('95% of failed campaigned lies below $', failed_tile)\n",
    "print('95% of successful campaigned lies below $', success_tile)"
   ]
  },
  {
   "cell_type": "code",
   "execution_count": 35,
   "metadata": {},
   "outputs": [
    {
     "data": {
      "text/plain": [
       "<matplotlib.axes._subplots.AxesSubplot at 0x18883e6a448>"
      ]
     },
     "execution_count": 35,
     "metadata": {},
     "output_type": "execute_result"
    },
    {
     "data": {
      "image/png": "[encoded data removed]",
      "text/plain": [
       "<Figure size 432x288 with 1 Axes>"
      ]
     },
     "metadata": {
      "needs_background": "light"
     },
     "output_type": "display_data"
    }
   ],
   "source": [
    "sns.distplot(df_success[df_success.goal < 21000]['goal'],bins = 40)"
   ]
  },
  {
   "cell_type": "code",
   "execution_count": 36,
   "metadata": {
    "scrolled": true
   },
   "outputs": [
    {
     "data": {
      "text/plain": [
       "<matplotlib.axes._subplots.AxesSubplot at 0x18883f53148>"
      ]
     },
     "execution_count": 36,
     "metadata": {},
     "output_type": "execute_result"
    },
    {
     "data": {
      "image/png": "[encoded data removed]",
      "text/plain": [
       "<Figure size 432x288 with 1 Axes>"
      ]
     },
     "metadata": {
      "needs_background": "light"
     },
     "output_type": "display_data"
    }
   ],
   "source": [
    "sns.distplot(df_fail[df_fail.goal < 60000]['goal'],bins = 40)"
   ]
  },
  {
   "cell_type": "code",
   "execution_count": 37,
   "metadata": {},
   "outputs": [],
   "source": [
    "fail_count = Counter()\n",
    "for title in df_fail.token_title:\n",
    "    for word in title:\n",
    "        fail_count[word]+=1\n",
    "\n",
    "success_count = Counter()\n",
    "for title in df_success.token_title:\n",
    "    for word in title:\n",
    "        success_count[word]+=1"
   ]
  },
  {
   "cell_type": "code",
   "execution_count": 38,
   "metadata": {},
   "outputs": [
    {
     "data": {
      "text/plain": [
       "Text(0.5, 1.0, \"Most Common Words in Fail Campaign's Title\")"
      ]
     },
     "execution_count": 38,
     "metadata": {},
     "output_type": "execute_result"
    },
    {
     "data": {
      "image/png": "[encoded data removed]",
      "text/plain": [
       "<Figure size 432x288 with 1 Axes>"
      ]
     },
     "metadata": {
      "needs_background": "light"
     },
     "output_type": "display_data"
    }
   ],
   "source": [
    "fail_common = [[],[]]\n",
    "\n",
    "for day, count in fail_count.most_common(25):\n",
    "    fail_common[0].append(day)\n",
    "    fail_common[1].append(count)\n",
    "\n",
    "\n",
    "axe = sns.barplot(x = fail_common[0], y = fail_common[1])\n",
    "plt.xticks(rotation=90)\n",
    "plt.ylabel('Count')\n",
    "plt.title(\"Most Common Words in Fail Campaign's Title\")"
   ]
  },
  {
   "cell_type": "code",
   "execution_count": 39,
   "metadata": {},
   "outputs": [
    {
     "data": {
      "text/plain": [
       "Text(0.5, 1.0, \"Most Common Words in Successful Campaign's Title\")"
      ]
     },
     "execution_count": 39,
     "metadata": {},
     "output_type": "execute_result"
    },
    {
     "data": {
      "image/png": "[encoded data removed]",
      "text/plain": [
       "<Figure size 432x288 with 1 Axes>"
      ]
     },
     "metadata": {
      "needs_background": "light"
     },
     "output_type": "display_data"
    }
   ],
   "source": [
    "success_common = [[],[]]\n",
    "for day, count in success_count.most_common(25):\n",
    "    success_common[0].append(day)\n",
    "    success_common[1].append(count)\n",
    "\n",
    "\n",
    "axe = sns.barplot(x = success_common[0], y = success_common[1])\n",
    "plt.xticks(rotation=90)\n",
    "plt.ylabel('Count')\n",
    "plt.title(\"Most Common Words in Successful Campaign's Title\")"
   ]
  },
  {
   "cell_type": "code",
   "execution_count": 40,
   "metadata": {},
   "outputs": [],
   "source": [
    "def no_punc(x):\n",
    "    output =[]\n",
    "    for word in x:\n",
    "        if word.isalnum():\n",
    "            output.append(word)\n",
    "    return output\n",
    "df['no_pun'] = df['title'].apply(lambda x: no_punc(x))"
   ]
  },
  {
   "cell_type": "code",
   "execution_count": 41,
   "metadata": {},
   "outputs": [],
   "source": [
    "success_len1 = []\n",
    "for title in df[df.state == 'successful'].no_pun:\n",
    "    success_len1.append(len(title))\n",
    "    \n",
    "fail_len1 = []\n",
    "for title in df[df.state == 'failed'].no_pun:\n",
    "    fail_len1.append(len(title))"
   ]
  },
  {
   "cell_type": "code",
   "execution_count": 42,
   "metadata": {},
   "outputs": [
    {
     "data": {
      "text/plain": [
       "Text(0.5, 1.0, 'Distribution of Number of Words in Title')"
      ]
     },
     "execution_count": 42,
     "metadata": {},
     "output_type": "execute_result"
    },
    {
     "data": {
      "image/png": "[encoded data removed]",
      "text/plain": [
       "<Figure size 432x288 with 1 Axes>"
      ]
     },
     "metadata": {
      "needs_background": "light"
     },
     "output_type": "display_data"
    }
   ],
   "source": [
    "sns.distplot(fail_len1, bins = 10, kde = False, norm_hist = True, label = 'Failed')\n",
    "sns.distplot(success_len1, bins = 10, kde = False, norm_hist = True, label = 'Success')\n",
    "plt.legend(loc = 'upper right')\n",
    "plt.title('Distribution of Number of Words in Title')"
   ]
  },
  {
   "cell_type": "code",
   "execution_count": 43,
   "metadata": {},
   "outputs": [
    {
     "name": "stdout",
     "output_type": "stream",
     "text": [
      "Average number of important words for failed campaign is 5.73\n",
      "Average number of important words for successful campaign is 6.28\n"
     ]
    }
   ],
   "source": [
    "avg_fail = np.mean(fail_len1)\n",
    "avg_success = np.mean(success_len1)\n",
    "print('Average number of important words for failed campaign is', round(avg_fail, 2))\n",
    "print('Average number of important words for successful campaign is', round(avg_success,2))"
   ]
  },
  {
   "cell_type": "code",
   "execution_count": 44,
   "metadata": {},
   "outputs": [
    {
     "name": "stdout",
     "output_type": "stream",
     "text": [
      "p-value is 0.0\n"
     ]
    }
   ],
   "source": [
    "#bootstrap\n",
    "diff = avg_success - avg_fail\n",
    "\n",
    "bootstrap = np.empty(10000)\n",
    "combine = success_len1 + fail_len1\n",
    "for i in range(10000):\n",
    "    perm = np.random.choice(combine, size = len(combine))\n",
    "    fail = np.mean(perm[:len(fail_len1)])\n",
    "    success = np.mean(perm[len(fail_len1):])\n",
    "    boot_diff = success - fail\n",
    "    bootstrap[i] = boot_diff\n",
    "\n",
    "p_value = np.sum(bootstrap >= diff)/len(combine)\n",
    "print('p-value is', p_value)"
   ]
  },
  {
   "cell_type": "code",
   "execution_count": 45,
   "metadata": {},
   "outputs": [],
   "source": [
    "success_len2 = []\n",
    "for title in df_success.token_title:\n",
    "    success_len2.append(len(title))\n",
    "\n",
    "fail_len2 = []\n",
    "for title in df_fail.token_title:\n",
    "    fail_len2.append(len(title))"
   ]
  },
  {
   "cell_type": "code",
   "execution_count": 46,
   "metadata": {},
   "outputs": [
    {
     "data": {
      "text/plain": [
       "Text(0.5, 1.0, 'Distribution of Number of \"Important\" Words in Title')"
      ]
     },
     "execution_count": 46,
     "metadata": {},
     "output_type": "execute_result"
    },
    {
     "data": {
      "image/png": "[encoded data removed]",
      "text/plain": [
       "<Figure size 432x288 with 1 Axes>"
      ]
     },
     "metadata": {
      "needs_background": "light"
     },
     "output_type": "display_data"
    }
   ],
   "source": [
    "sns.distplot(fail_len2, bins = 10, kde = False, norm_hist = True, label = 'Failed')\n",
    "sns.distplot(success_len2, bins = 10, kde = False, norm_hist = True, label = 'Success')\n",
    "plt.legend(loc = 'upper right')\n",
    "plt.title('Distribution of Number of \"Important\" Words in Title')"
   ]
  },
  {
   "cell_type": "code",
   "execution_count": 47,
   "metadata": {},
   "outputs": [
    {
     "name": "stdout",
     "output_type": "stream",
     "text": [
      "Average number of important words for failed campaign is 4.28\n",
      "Average number of important words for successful campaign is 4.63\n"
     ]
    }
   ],
   "source": [
    "avg_fail = np.mean(fail_len2)\n",
    "avg_success = np.mean(success_len2)\n",
    "print('Average number of important words for failed campaign is', round(avg_fail, 2))\n",
    "print('Average number of important words for successful campaign is', round(avg_success,2))"
   ]
  },
  {
   "cell_type": "code",
   "execution_count": 48,
   "metadata": {},
   "outputs": [
    {
     "name": "stdout",
     "output_type": "stream",
     "text": [
      "p-value is 0.0\n"
     ]
    }
   ],
   "source": [
    "#bootstrap\n",
    "diff = avg_success - avg_fail\n",
    "\n",
    "bootstrap = np.empty(10000)\n",
    "combine = success_len2 + fail_len2\n",
    "for i in range(10000):\n",
    "    perm = np.random.choice(combine, size = len(combine))\n",
    "    fail = np.mean(perm[:len(fail_len2)])\n",
    "    success = np.mean(perm[len(fail_len2):])\n",
    "    boot_diff = success - fail\n",
    "    bootstrap[i] = boot_diff\n",
    "\n",
    "p_value = np.sum(bootstrap >= diff)/len(combine)\n",
    "print('p-value is', p_value)"
   ]
  },
  {
   "cell_type": "code",
   "execution_count": 49,
   "metadata": {},
   "outputs": [],
   "source": [
    "fail_bigram_count = Counter()\n",
    "for title in df_fail.bigram_title:\n",
    "    for bigram in list(title):\n",
    "        fail_bigram_count[bigram]+=1\n",
    "\n",
    "success_bigram_count = Counter()\n",
    "for summary in df_success.bigram_title:\n",
    "    for bigram in summary:\n",
    "        success_bigram_count[bigram]+=1"
   ]
  },
  {
   "cell_type": "code",
   "execution_count": 50,
   "metadata": {},
   "outputs": [
    {
     "data": {
      "text/plain": [
       "Text(0.5, 1.0, \"Most Common Bigram in Fail Campaign's Title\")"
      ]
     },
     "execution_count": 50,
     "metadata": {},
     "output_type": "execute_result"
    },
    {
     "data": {
      "image/png": "[encoded data removed]",
      "text/plain": [
       "<Figure size 432x288 with 1 Axes>"
      ]
     },
     "metadata": {
      "needs_background": "light"
     },
     "output_type": "display_data"
    }
   ],
   "source": [
    "fail_bigram = [[],[]]\n",
    "\n",
    "for words, count in fail_bigram_count.most_common(25):\n",
    "    fail_bigram[0].append(str(words))\n",
    "    fail_bigram[1].append(count)\n",
    "\n",
    "\n",
    "axe = sns.barplot(x = fail_bigram[0], y = fail_bigram[1])\n",
    "plt.xticks(rotation=90)\n",
    "plt.ylabel('Count')\n",
    "plt.title(\"Most Common Bigram in Fail Campaign's Title\")"
   ]
  },
  {
   "cell_type": "code",
   "execution_count": 51,
   "metadata": {},
   "outputs": [
    {
     "data": {
      "text/plain": [
       "Text(0.5, 1.0, \"Most Common Bigram in Successful Campaign's Title\")"
      ]
     },
     "execution_count": 51,
     "metadata": {},
     "output_type": "execute_result"
    },
    {
     "data": {
      "image/png": "[encoded data removed]",
      "text/plain": [
       "<Figure size 432x288 with 1 Axes>"
      ]
     },
     "metadata": {
      "needs_background": "light"
     },
     "output_type": "display_data"
    }
   ],
   "source": [
    "success_bigram = [[],[]]\n",
    "\n",
    "for words, count in success_bigram_count.most_common(25):\n",
    "    success_bigram[0].append(str(words))\n",
    "    success_bigram[1].append(count)\n",
    "\n",
    "\n",
    "axe = sns.barplot(x = success_bigram[0], y = success_bigram[1])\n",
    "plt.xticks(rotation=90)\n",
    "plt.ylabel('Count')\n",
    "plt.title(\"Most Common Bigram in Successful Campaign's Title\")"
   ]
  },
  {
   "cell_type": "code",
   "execution_count": 52,
   "metadata": {},
   "outputs": [],
   "source": [
    "fail_count = Counter()\n",
    "for summary in df_fail.token_summary:\n",
    "    for word in summary:\n",
    "        fail_count[word]+=1\n",
    "\n",
    "success_count = Counter()\n",
    "for summary in df_success.token_summary:\n",
    "    for word in summary:\n",
    "        success_count[word]+=1"
   ]
  },
  {
   "cell_type": "code",
   "execution_count": 53,
   "metadata": {},
   "outputs": [
    {
     "data": {
      "text/plain": [
       "Text(0.5, 1.0, \"Most Common Words in Fail Campaign's Summary\")"
      ]
     },
     "execution_count": 53,
     "metadata": {},
     "output_type": "execute_result"
    },
    {
     "data": {
      "image/png": "[encoded data removed]",
      "text/plain": [
       "<Figure size 432x288 with 1 Axes>"
      ]
     },
     "metadata": {
      "needs_background": "light"
     },
     "output_type": "display_data"
    }
   ],
   "source": [
    "fail_common = [[],[]]\n",
    "\n",
    "for day, count in fail_count.most_common(25):\n",
    "    fail_common[0].append(day)\n",
    "    fail_common[1].append(count)\n",
    "\n",
    "\n",
    "axe = sns.barplot(x = fail_common[0], y = fail_common[1])\n",
    "plt.xticks(rotation=90)\n",
    "plt.ylabel('Count')\n",
    "plt.title(\"Most Common Words in Fail Campaign's Summary\")"
   ]
  },
  {
   "cell_type": "code",
   "execution_count": 54,
   "metadata": {},
   "outputs": [
    {
     "data": {
      "text/plain": [
       "Text(0.5, 1.0, \"Most Common Words in Successful Campaign's Summary\")"
      ]
     },
     "execution_count": 54,
     "metadata": {},
     "output_type": "execute_result"
    },
    {
     "data": {
      "image/png": "[encoded data removed]",
      "text/plain": [
       "<Figure size 432x288 with 1 Axes>"
      ]
     },
     "metadata": {
      "needs_background": "light"
     },
     "output_type": "display_data"
    }
   ],
   "source": [
    "success_common = [[],[]]\n",
    "for day, count in success_count.most_common(25):\n",
    "    success_common[0].append(day)\n",
    "    success_common[1].append(count)\n",
    "\n",
    "\n",
    "axe = sns.barplot(x = success_common[0], y = success_common[1])\n",
    "plt.xticks(rotation=90)\n",
    "plt.ylabel('Count')\n",
    "plt.title(\"Most Common Words in Successful Campaign's Summary\")"
   ]
  },
  {
   "cell_type": "code",
   "execution_count": 55,
   "metadata": {},
   "outputs": [],
   "source": [
    "def no_punc(x):\n",
    "    output =[]\n",
    "    for word in x:\n",
    "        if word.isalnum():\n",
    "            output.append(word)\n",
    "    return output\n",
    "df['no_pun_sum'] = df['summary'].apply(lambda x: no_punc(x))"
   ]
  },
  {
   "cell_type": "code",
   "execution_count": 56,
   "metadata": {},
   "outputs": [],
   "source": [
    "success_len1 = []\n",
    "for summary in df[df.state == 'successful'].no_pun_sum:\n",
    "    success_len1.append(len(summary))\n",
    "    \n",
    "fail_len1 = []\n",
    "for summary in df[df.state == 'failed'].no_pun_sum:\n",
    "    fail_len1.append(len(summary))"
   ]
  },
  {
   "cell_type": "code",
   "execution_count": 57,
   "metadata": {},
   "outputs": [
    {
     "data": {
      "text/plain": [
       "Text(0.5, 1.0, 'Distribution of Number of Words in Summary')"
      ]
     },
     "execution_count": 57,
     "metadata": {},
     "output_type": "execute_result"
    },
    {
     "data": {
      "image/png": "[encoded data removed]",
      "text/plain": [
       "<Figure size 432x288 with 1 Axes>"
      ]
     },
     "metadata": {
      "needs_background": "light"
     },
     "output_type": "display_data"
    }
   ],
   "source": [
    "sns.distplot(fail_len1,bins = 25, kde = False, norm_hist = True, label = 'Failed')\n",
    "sns.distplot(success_len1, bins = 25, kde = False, norm_hist = True, label = 'Success')\n",
    "plt.legend(loc = 'upper right')\n",
    "plt.title('Distribution of Number of Words in Summary')"
   ]
  },
  {
   "cell_type": "code",
   "execution_count": 58,
   "metadata": {},
   "outputs": [
    {
     "name": "stdout",
     "output_type": "stream",
     "text": [
      "Average number of important words for failed campaign is 19.13\n",
      "Average number of important words for successful campaign is 18.67\n"
     ]
    }
   ],
   "source": [
    "avg_fail = np.mean(fail_len1)\n",
    "avg_success = np.mean(success_len1)\n",
    "print('Average number of important words for failed campaign is', round(avg_fail, 2))\n",
    "print('Average number of important words for successful campaign is', round(avg_success,2))"
   ]
  },
  {
   "cell_type": "code",
   "execution_count": 59,
   "metadata": {},
   "outputs": [
    {
     "name": "stdout",
     "output_type": "stream",
     "text": [
      "p-value is 0.07102978989388149\n"
     ]
    }
   ],
   "source": [
    "#bootstrap\n",
    "diff = avg_success - avg_fail\n",
    "\n",
    "bootstrap = np.empty(10000)\n",
    "combine = success_len1 + fail_len1\n",
    "for i in range(10000):\n",
    "    perm = np.random.choice(combine, size = len(combine))\n",
    "    fail = np.mean(perm[:len(fail_len1)])\n",
    "    success = np.mean(perm[len(fail_len1):])\n",
    "    boot_diff = success - fail\n",
    "    bootstrap[i] = boot_diff\n",
    "\n",
    "p_value = np.sum(bootstrap >= diff)/len(combine)\n",
    "print('p-value is', p_value)"
   ]
  },
  {
   "cell_type": "code",
   "execution_count": 60,
   "metadata": {},
   "outputs": [],
   "source": [
    "success_len2 = []\n",
    "for summary in df_success.token_summary:\n",
    "    success_len2.append(len(summary))\n",
    "\n",
    "fail_len2 = []\n",
    "for summary in df_fail.token_summary:\n",
    "    fail_len2.append(len(summary))"
   ]
  },
  {
   "cell_type": "code",
   "execution_count": 61,
   "metadata": {},
   "outputs": [
    {
     "data": {
      "text/plain": [
       "Text(0.5, 1.0, 'Distribution of Number of \"Important\" Words in Summary')"
      ]
     },
     "execution_count": 61,
     "metadata": {},
     "output_type": "execute_result"
    },
    {
     "data": {
      "image/png": "[encoded data removed]",
      "text/plain": [
       "<Figure size 432x288 with 1 Axes>"
      ]
     },
     "metadata": {
      "needs_background": "light"
     },
     "output_type": "display_data"
    }
   ],
   "source": [
    "sns.distplot(fail_len2, bins = 25, kde = False, norm_hist = True, label = 'Failed')\n",
    "sns.distplot(success_len2, bins = 25, kde = False, norm_hist = True, label = 'Success')\n",
    "plt.legend(loc = 'upper right')\n",
    "plt.title('Distribution of Number of \"Important\" Words in Summary')"
   ]
  },
  {
   "cell_type": "code",
   "execution_count": 62,
   "metadata": {},
   "outputs": [
    {
     "name": "stdout",
     "output_type": "stream",
     "text": [
      "Average number of important words for failed campaign is 11.72\n",
      "Average number of important words for successful campaign is 11.71\n"
     ]
    }
   ],
   "source": [
    "avg_fail = np.mean(fail_len2)\n",
    "avg_success = np.mean(success_len2)\n",
    "print('Average number of important words for failed campaign is', round(avg_fail, 2))\n",
    "print('Average number of important words for successful campaign is', round(avg_success,2))"
   ]
  },
  {
   "cell_type": "code",
   "execution_count": 63,
   "metadata": {},
   "outputs": [],
   "source": [
    "fail_bigram_count = Counter()\n",
    "for summary in df_fail.bigram_summary:\n",
    "    for bigram in list(summary):\n",
    "        fail_bigram_count[bigram]+=1\n",
    "\n",
    "success_bigram_count = Counter()\n",
    "for summary in df_success.bigram_summary:\n",
    "    for bigram in summary:\n",
    "        success_bigram_count[bigram]+=1"
   ]
  },
  {
   "cell_type": "code",
   "execution_count": 64,
   "metadata": {},
   "outputs": [
    {
     "data": {
      "text/plain": [
       "Text(0.5, 1.0, \"Most Common Bigram in Fail Campaign's Summary\")"
      ]
     },
     "execution_count": 64,
     "metadata": {},
     "output_type": "execute_result"
    },
    {
     "data": {
      "image/png": "[encoded data removed]",
      "text/plain": [
       "<Figure size 432x288 with 1 Axes>"
      ]
     },
     "metadata": {
      "needs_background": "light"
     },
     "output_type": "display_data"
    }
   ],
   "source": [
    "fail_bigram = [[],[]]\n",
    "\n",
    "for words, count in fail_bigram_count.most_common(25):\n",
    "    fail_bigram[0].append(str(words))\n",
    "    fail_bigram[1].append(count)\n",
    "\n",
    "\n",
    "axe = sns.barplot(x = fail_bigram[0], y = fail_bigram[1])\n",
    "plt.xticks(rotation=90)\n",
    "plt.ylabel('Count')\n",
    "plt.title(\"Most Common Bigram in Fail Campaign's Summary\")"
   ]
  },
  {
   "cell_type": "code",
   "execution_count": 65,
   "metadata": {},
   "outputs": [
    {
     "data": {
      "text/plain": [
       "Text(0.5, 1.0, \"Most Common Bigram in Successful Campaign's Summary\")"
      ]
     },
     "execution_count": 65,
     "metadata": {},
     "output_type": "execute_result"
    },
    {
     "data": {
      "image/png": "[encoded data removed]",
      "text/plain": [
       "<Figure size 432x288 with 1 Axes>"
      ]
     },
     "metadata": {
      "needs_background": "light"
     },
     "output_type": "display_data"
    }
   ],
   "source": [
    "success_bigram = [[],[]]\n",
    "\n",
    "for words, count in success_bigram_count.most_common(25):\n",
    "    success_bigram[0].append(str(words))\n",
    "    success_bigram[1].append(count)\n",
    "\n",
    "\n",
    "axe = sns.barplot(x = success_bigram[0], y = success_bigram[1])\n",
    "plt.xticks(rotation=90)\n",
    "plt.ylabel('Count')\n",
    "plt.title(\"Most Common Bigram in Successful Campaign's Summary\")"
   ]
  },
  {
   "cell_type": "code",
   "execution_count": null,
   "metadata": {},
   "outputs": [],
   "source": []
  }
 ],
 "metadata": {
  "kernelspec": {
   "display_name": "Python 3",
   "language": "python",
   "name": "python3"
  },
  "language_info": {
   "codemirror_mode": {
    "name": "ipython",
    "version": 3
   },
   "file_extension": ".py",
   "mimetype": "text/x-python",
   "name": "python",
   "nbconvert_exporter": "python",
   "pygments_lexer": "ipython3",
   "version": "3.7.4"
  }
 },
 "nbformat": 4,
 "nbformat_minor": 2
}
