{
 "cells": [
  {
   "cell_type": "markdown",
   "metadata": {},
   "source": [
    "# Table of Contents\n",
    "1. Data Wrangling\n",
    "2"
   ]
  },
  {
   "cell_type": "markdown",
   "metadata": {},
   "source": [
    "Introduction "
   ]
  },
  {
   "cell_type": "code",
   "execution_count": 1,
   "metadata": {
    "collapsed": false,
    "deletable": true,
    "editable": true
   },
   "outputs": [
    {
     "name": "stderr",
     "output_type": "stream",
     "text": [
      "Using TensorFlow backend.\n"
     ]
    }
   ],
   "source": [
    "import numpy as np\n",
    "import pandas as pd\n",
    "import glob\n",
    "from datetime import datetime\n",
    "import matplotlib.pyplot as plt\n",
    "import seaborn as sns\n",
    "import scipy\n",
    "from keras.layers import Input, Dense, Dropout, Embedding, LSTM, Bidirectional\n",
    "from keras.models import Model"
   ]
  },
  {
   "cell_type": "code",
   "execution_count": 2,
   "metadata": {
    "collapsed": true,
    "deletable": true,
    "editable": true
   },
   "outputs": [],
   "source": [
    "#define path and set up to import csv files\n",
    "path = 'Dataset'\n",
    "all_files = glob.glob(path +\"/*.csv\")"
   ]
  },
  {
   "cell_type": "code",
   "execution_count": 3,
   "metadata": {
    "collapsed": true,
    "deletable": true,
    "editable": true
   },
   "outputs": [],
   "source": [
    "#create dataframes from all csv files\n",
    "li = []\n",
    "for filename in all_files:\n",
    "    df = pd.read_csv(filename, index_col = None)\n",
    "    li.append(df)\n",
    "frame = pd.concat(li, ignore_index = True)"
   ]
  },
  {
   "cell_type": "code",
   "execution_count": 4,
   "metadata": {
    "collapsed": false,
    "deletable": true,
    "editable": true
   },
   "outputs": [
    {
     "data": {
      "text/html": [
       "<div>\n",
       "<style scoped>\n",
       "    .dataframe tbody tr th:only-of-type {\n",
       "        vertical-align: middle;\n",
       "    }\n",
       "\n",
       "    .dataframe tbody tr th {\n",
       "        vertical-align: top;\n",
       "    }\n",
       "\n",
       "    .dataframe thead th {\n",
       "        text-align: right;\n",
       "    }\n",
       "</style>\n",
       "<table border=\"1\" class=\"dataframe\">\n",
       "  <thead>\n",
       "    <tr style=\"text-align: right;\">\n",
       "      <th></th>\n",
       "      <th>backers_count</th>\n",
       "      <th>blurb</th>\n",
       "      <th>category</th>\n",
       "      <th>converted_pledged_amount</th>\n",
       "      <th>country</th>\n",
       "      <th>created_at</th>\n",
       "      <th>creator</th>\n",
       "      <th>currency</th>\n",
       "      <th>currency_symbol</th>\n",
       "      <th>currency_trailing_code</th>\n",
       "      <th>...</th>\n",
       "      <th>slug</th>\n",
       "      <th>source_url</th>\n",
       "      <th>spotlight</th>\n",
       "      <th>staff_pick</th>\n",
       "      <th>state</th>\n",
       "      <th>state_changed_at</th>\n",
       "      <th>static_usd_rate</th>\n",
       "      <th>urls</th>\n",
       "      <th>usd_pledged</th>\n",
       "      <th>usd_type</th>\n",
       "    </tr>\n",
       "  </thead>\n",
       "  <tbody>\n",
       "    <tr>\n",
       "      <th>0</th>\n",
       "      <td>103</td>\n",
       "      <td>Funding the mixing, mastering, and promotion o...</td>\n",
       "      <td>{\"id\":39,\"name\":\"Hip-Hop\",\"slug\":\"music/hip-ho...</td>\n",
       "      <td>5612</td>\n",
       "      <td>US</td>\n",
       "      <td>1456593666</td>\n",
       "      <td>{\"id\":1531055178,\"name\":\"JC Stroebel and Henry...</td>\n",
       "      <td>USD</td>\n",
       "      <td>$</td>\n",
       "      <td>True</td>\n",
       "      <td>...</td>\n",
       "      <td>john-chuck-and-the-class-debut-ep</td>\n",
       "      <td>https://www.kickstarter.com/discover/categorie...</td>\n",
       "      <td>True</td>\n",
       "      <td>True</td>\n",
       "      <td>successful</td>\n",
       "      <td>1459964983</td>\n",
       "      <td>1.000000</td>\n",
       "      <td>{\"web\":{\"project\":\"https://www.kickstarter.com...</td>\n",
       "      <td>5612.0</td>\n",
       "      <td>domestic</td>\n",
       "    </tr>\n",
       "    <tr>\n",
       "      <th>1</th>\n",
       "      <td>318</td>\n",
       "      <td>We follow the challenges and achievements of g...</td>\n",
       "      <td>{\"id\":30,\"name\":\"Documentary\",\"slug\":\"film &amp; v...</td>\n",
       "      <td>26237</td>\n",
       "      <td>US</td>\n",
       "      <td>1495058182</td>\n",
       "      <td>{\"id\":652875854,\"name\":\"Matthew Temple\",\"is_re...</td>\n",
       "      <td>USD</td>\n",
       "      <td>$</td>\n",
       "      <td>True</td>\n",
       "      <td>...</td>\n",
       "      <td>girls-of-summer-big-diamond-dreams</td>\n",
       "      <td>https://www.kickstarter.com/discover/categorie...</td>\n",
       "      <td>True</td>\n",
       "      <td>True</td>\n",
       "      <td>successful</td>\n",
       "      <td>1499054401</td>\n",
       "      <td>1.000000</td>\n",
       "      <td>{\"web\":{\"project\":\"https://www.kickstarter.com...</td>\n",
       "      <td>26237.0</td>\n",
       "      <td>domestic</td>\n",
       "    </tr>\n",
       "    <tr>\n",
       "      <th>2</th>\n",
       "      <td>0</td>\n",
       "      <td>Task No.1 is inspired by the history and expre...</td>\n",
       "      <td>{\"id\":38,\"name\":\"Electronic Music\",\"slug\":\"mus...</td>\n",
       "      <td>0</td>\n",
       "      <td>GB</td>\n",
       "      <td>1357630802</td>\n",
       "      <td>{\"id\":1699678150,\"name\":\"Sonny Phillips\",\"slug...</td>\n",
       "      <td>GBP</td>\n",
       "      <td>£</td>\n",
       "      <td>False</td>\n",
       "      <td>...</td>\n",
       "      <td>task-no1</td>\n",
       "      <td>https://www.kickstarter.com/discover/categorie...</td>\n",
       "      <td>False</td>\n",
       "      <td>False</td>\n",
       "      <td>failed</td>\n",
       "      <td>1362937678</td>\n",
       "      <td>1.614583</td>\n",
       "      <td>{\"web\":{\"project\":\"https://www.kickstarter.com...</td>\n",
       "      <td>0.0</td>\n",
       "      <td>international</td>\n",
       "    </tr>\n",
       "    <tr>\n",
       "      <th>3</th>\n",
       "      <td>22</td>\n",
       "      <td>MAJOR KEY ALERT - Future Heroes is a Denver ra...</td>\n",
       "      <td>{\"id\":39,\"name\":\"Hip-Hop\",\"slug\":\"music/hip-ho...</td>\n",
       "      <td>1575</td>\n",
       "      <td>US</td>\n",
       "      <td>1455591114</td>\n",
       "      <td>{\"id\":518056209,\"name\":\"Future Heroes\",\"is_reg...</td>\n",
       "      <td>USD</td>\n",
       "      <td>$</td>\n",
       "      <td>True</td>\n",
       "      <td>...</td>\n",
       "      <td>future-heroes-sxsw-is-calling</td>\n",
       "      <td>https://www.kickstarter.com/discover/categorie...</td>\n",
       "      <td>True</td>\n",
       "      <td>False</td>\n",
       "      <td>successful</td>\n",
       "      <td>1457935201</td>\n",
       "      <td>1.000000</td>\n",
       "      <td>{\"web\":{\"project\":\"https://www.kickstarter.com...</td>\n",
       "      <td>1575.0</td>\n",
       "      <td>domestic</td>\n",
       "    </tr>\n",
       "    <tr>\n",
       "      <th>4</th>\n",
       "      <td>17</td>\n",
       "      <td>We're traveling to Rhode Island to film Mako a...</td>\n",
       "      <td>{\"id\":30,\"name\":\"Documentary\",\"slug\":\"film &amp; v...</td>\n",
       "      <td>3290</td>\n",
       "      <td>US</td>\n",
       "      <td>1465224753</td>\n",
       "      <td>{\"id\":632937188,\"name\":\"Ryan Walton\",\"is_regis...</td>\n",
       "      <td>USD</td>\n",
       "      <td>$</td>\n",
       "      <td>True</td>\n",
       "      <td>...</td>\n",
       "      <td>pelagic-shark-diving-shoot</td>\n",
       "      <td>https://www.kickstarter.com/discover/categorie...</td>\n",
       "      <td>True</td>\n",
       "      <td>False</td>\n",
       "      <td>successful</td>\n",
       "      <td>1467825676</td>\n",
       "      <td>1.000000</td>\n",
       "      <td>{\"web\":{\"project\":\"https://www.kickstarter.com...</td>\n",
       "      <td>3290.0</td>\n",
       "      <td>domestic</td>\n",
       "    </tr>\n",
       "  </tbody>\n",
       "</table>\n",
       "<p>5 rows × 37 columns</p>\n",
       "</div>"
      ],
      "text/plain": [
       "   backers_count                                              blurb  \\\n",
       "0            103  Funding the mixing, mastering, and promotion o...   \n",
       "1            318  We follow the challenges and achievements of g...   \n",
       "2              0  Task No.1 is inspired by the history and expre...   \n",
       "3             22  MAJOR KEY ALERT - Future Heroes is a Denver ra...   \n",
       "4             17  We're traveling to Rhode Island to film Mako a...   \n",
       "\n",
       "                                            category  \\\n",
       "0  {\"id\":39,\"name\":\"Hip-Hop\",\"slug\":\"music/hip-ho...   \n",
       "1  {\"id\":30,\"name\":\"Documentary\",\"slug\":\"film & v...   \n",
       "2  {\"id\":38,\"name\":\"Electronic Music\",\"slug\":\"mus...   \n",
       "3  {\"id\":39,\"name\":\"Hip-Hop\",\"slug\":\"music/hip-ho...   \n",
       "4  {\"id\":30,\"name\":\"Documentary\",\"slug\":\"film & v...   \n",
       "\n",
       "   converted_pledged_amount country  created_at  \\\n",
       "0                      5612      US  1456593666   \n",
       "1                     26237      US  1495058182   \n",
       "2                         0      GB  1357630802   \n",
       "3                      1575      US  1455591114   \n",
       "4                      3290      US  1465224753   \n",
       "\n",
       "                                             creator currency currency_symbol  \\\n",
       "0  {\"id\":1531055178,\"name\":\"JC Stroebel and Henry...      USD               $   \n",
       "1  {\"id\":652875854,\"name\":\"Matthew Temple\",\"is_re...      USD               $   \n",
       "2  {\"id\":1699678150,\"name\":\"Sonny Phillips\",\"slug...      GBP               £   \n",
       "3  {\"id\":518056209,\"name\":\"Future Heroes\",\"is_reg...      USD               $   \n",
       "4  {\"id\":632937188,\"name\":\"Ryan Walton\",\"is_regis...      USD               $   \n",
       "\n",
       "   currency_trailing_code      ...                                      slug  \\\n",
       "0                    True      ...         john-chuck-and-the-class-debut-ep   \n",
       "1                    True      ...        girls-of-summer-big-diamond-dreams   \n",
       "2                   False      ...                                  task-no1   \n",
       "3                    True      ...             future-heroes-sxsw-is-calling   \n",
       "4                    True      ...                pelagic-shark-diving-shoot   \n",
       "\n",
       "                                          source_url  spotlight staff_pick  \\\n",
       "0  https://www.kickstarter.com/discover/categorie...       True       True   \n",
       "1  https://www.kickstarter.com/discover/categorie...       True       True   \n",
       "2  https://www.kickstarter.com/discover/categorie...      False      False   \n",
       "3  https://www.kickstarter.com/discover/categorie...       True      False   \n",
       "4  https://www.kickstarter.com/discover/categorie...       True      False   \n",
       "\n",
       "        state  state_changed_at  static_usd_rate  \\\n",
       "0  successful        1459964983         1.000000   \n",
       "1  successful        1499054401         1.000000   \n",
       "2      failed        1362937678         1.614583   \n",
       "3  successful        1457935201         1.000000   \n",
       "4  successful        1467825676         1.000000   \n",
       "\n",
       "                                                urls  usd_pledged  \\\n",
       "0  {\"web\":{\"project\":\"https://www.kickstarter.com...       5612.0   \n",
       "1  {\"web\":{\"project\":\"https://www.kickstarter.com...      26237.0   \n",
       "2  {\"web\":{\"project\":\"https://www.kickstarter.com...          0.0   \n",
       "3  {\"web\":{\"project\":\"https://www.kickstarter.com...       1575.0   \n",
       "4  {\"web\":{\"project\":\"https://www.kickstarter.com...       3290.0   \n",
       "\n",
       "        usd_type  \n",
       "0       domestic  \n",
       "1       domestic  \n",
       "2  international  \n",
       "3       domestic  \n",
       "4       domestic  \n",
       "\n",
       "[5 rows x 37 columns]"
      ]
     },
     "execution_count": 4,
     "metadata": {},
     "output_type": "execute_result"
    }
   ],
   "source": [
    "#merge files\n",
    "frame = pd.concat(li, ignore_index = True)\n",
    "frame.head()"
   ]
  },
  {
   "cell_type": "code",
   "execution_count": 5,
   "metadata": {
    "collapsed": false,
    "deletable": true,
    "editable": true
   },
   "outputs": [
    {
     "name": "stdout",
     "output_type": "stream",
     "text": [
      "<class 'pandas.core.frame.DataFrame'>\n",
      "RangeIndex: 207621 entries, 0 to 207620\n",
      "Data columns (total 37 columns):\n",
      "backers_count               207621 non-null int64\n",
      "blurb                       207613 non-null object\n",
      "category                    207621 non-null object\n",
      "converted_pledged_amount    207621 non-null int64\n",
      "country                     207621 non-null object\n",
      "created_at                  207621 non-null int64\n",
      "creator                     207621 non-null object\n",
      "currency                    207621 non-null object\n",
      "currency_symbol             207621 non-null object\n",
      "currency_trailing_code      207621 non-null bool\n",
      "current_currency            207621 non-null object\n",
      "deadline                    207621 non-null int64\n",
      "disable_communication       207621 non-null bool\n",
      "friends                     444 non-null object\n",
      "fx_rate                     207621 non-null float64\n",
      "goal                        207621 non-null float64\n",
      "id                          207621 non-null int64\n",
      "is_backing                  444 non-null object\n",
      "is_starrable                207621 non-null bool\n",
      "is_starred                  444 non-null object\n",
      "launched_at                 207621 non-null int64\n",
      "location                    207421 non-null object\n",
      "name                        207621 non-null object\n",
      "permissions                 444 non-null object\n",
      "photo                       207621 non-null object\n",
      "pledged                     207621 non-null float64\n",
      "profile                     207621 non-null object\n",
      "slug                        207621 non-null object\n",
      "source_url                  207621 non-null object\n",
      "spotlight                   207621 non-null bool\n",
      "staff_pick                  207621 non-null bool\n",
      "state                       207621 non-null object\n",
      "state_changed_at            207621 non-null int64\n",
      "static_usd_rate             207621 non-null float64\n",
      "urls                        207621 non-null object\n",
      "usd_pledged                 207621 non-null float64\n",
      "usd_type                    207273 non-null object\n",
      "dtypes: bool(5), float64(5), int64(7), object(20)\n",
      "memory usage: 51.7+ MB\n"
     ]
    }
   ],
   "source": [
    "frame.info()"
   ]
  },
  {
   "cell_type": "code",
   "execution_count": 6,
   "metadata": {
    "collapsed": true,
    "deletable": true,
    "editable": true
   },
   "outputs": [],
   "source": [
    "#drop unrelated features\n",
    "frame = frame.drop(columns = ['backers_count', 'category', 'converted_pledged_amount','created_at', \n",
    "                             'creator', 'currency', 'currency_symbol', 'currency_trailing_code', \n",
    "                             'current_currency', 'deadline', 'friends', 'id', 'is_backing', 'is_starrable', \n",
    "                             'is_starred', 'location', 'name', 'slug', 'permissions', 'photo', 'pledged', \n",
    "                             'profile', 'source_url', 'spotlight', 'staff_pick', 'urls', 'static_usd_rate', \n",
    "                             'usd_pledged', 'usd_type'])"
   ]
  },
  {
   "cell_type": "code",
   "execution_count": 7,
   "metadata": {
    "collapsed": true,
    "deletable": true,
    "editable": true
   },
   "outputs": [],
   "source": [
    "#convert all goal to USD\n",
    "frame['goal'] = frame['goal']*frame['fx_rate']\n",
    "frame = frame[frame['disable_communication'] == False]"
   ]
  },
  {
   "cell_type": "code",
   "execution_count": 8,
   "metadata": {
    "collapsed": true,
    "deletable": true,
    "editable": true
   },
   "outputs": [],
   "source": [
    "#convert epoch to datetime\n",
    "frame['state_changed_at'] = frame['state_changed_at'].apply(lambda x: datetime.fromtimestamp(x))\n",
    "frame['launched_at'] = frame['launched_at'].apply(lambda x: datetime.fromtimestamp(x))\n",
    "\n",
    "#create new vector for days taken to complete goals\n",
    "frame['days_to_state_change'] = frame['state_changed_at'] - frame['launched_at']\n",
    "frame = frame.drop(columns = ['fx_rate', 'disable_communication', 'state_changed_at'])"
   ]
  },
  {
   "cell_type": "code",
   "execution_count": 9,
   "metadata": {
    "collapsed": true,
    "deletable": true,
    "editable": true
   },
   "outputs": [],
   "source": [
    "frame['days_to_state_change'] = frame['days_to_state_change'].dt.days"
   ]
  },
  {
   "cell_type": "code",
   "execution_count": 10,
   "metadata": {
    "collapsed": false,
    "deletable": true,
    "editable": true
   },
   "outputs": [
    {
     "name": "stdout",
     "output_type": "stream",
     "text": [
      "<class 'pandas.core.frame.DataFrame'>\n",
      "Int64Index: 206989 entries, 0 to 207620\n",
      "Data columns (total 6 columns):\n",
      "blurb                   206981 non-null object\n",
      "country                 206989 non-null object\n",
      "goal                    206989 non-null float64\n",
      "launched_at             206989 non-null datetime64[ns]\n",
      "state                   206989 non-null object\n",
      "days_to_state_change    206989 non-null int64\n",
      "dtypes: datetime64[ns](1), float64(1), int64(1), object(3)\n",
      "memory usage: 11.1+ MB\n"
     ]
    }
   ],
   "source": [
    "frame.info()"
   ]
  },
  {
   "cell_type": "code",
   "execution_count": 13,
   "metadata": {
    "collapsed": false
   },
   "outputs": [],
   "source": [
    "#create launch_month and lauch_year column\n",
    "frame['month_launched'] = frame['launched_at'].apply(lambda x: x.month)\n",
    "frame['year_launched'] = frame['launched_at'].apply(lambda x: x.year)\n",
    "frame = frame.drop(columns = ['launched_at'])"
   ]
  },
  {
   "cell_type": "code",
   "execution_count": 14,
   "metadata": {
    "collapsed": false
   },
   "outputs": [
    {
     "data": {
      "text/html": [
       "<div>\n",
       "<style scoped>\n",
       "    .dataframe tbody tr th:only-of-type {\n",
       "        vertical-align: middle;\n",
       "    }\n",
       "\n",
       "    .dataframe tbody tr th {\n",
       "        vertical-align: top;\n",
       "    }\n",
       "\n",
       "    .dataframe thead th {\n",
       "        text-align: right;\n",
       "    }\n",
       "</style>\n",
       "<table border=\"1\" class=\"dataframe\">\n",
       "  <thead>\n",
       "    <tr style=\"text-align: right;\">\n",
       "      <th></th>\n",
       "      <th>blurb</th>\n",
       "      <th>country</th>\n",
       "      <th>goal</th>\n",
       "      <th>state</th>\n",
       "      <th>days_to_state_change</th>\n",
       "      <th>month_launched</th>\n",
       "      <th>year_launched</th>\n",
       "    </tr>\n",
       "  </thead>\n",
       "  <tbody>\n",
       "    <tr>\n",
       "      <th>0</th>\n",
       "      <td>Funding the mixing, mastering, and promotion o...</td>\n",
       "      <td>US</td>\n",
       "      <td>5000.00000</td>\n",
       "      <td>successful</td>\n",
       "      <td>30</td>\n",
       "      <td>3</td>\n",
       "      <td>2016</td>\n",
       "    </tr>\n",
       "    <tr>\n",
       "      <th>1</th>\n",
       "      <td>We follow the challenges and achievements of g...</td>\n",
       "      <td>US</td>\n",
       "      <td>24042.00000</td>\n",
       "      <td>successful</td>\n",
       "      <td>26</td>\n",
       "      <td>6</td>\n",
       "      <td>2017</td>\n",
       "    </tr>\n",
       "    <tr>\n",
       "      <th>2</th>\n",
       "      <td>Task No.1 is inspired by the history and expre...</td>\n",
       "      <td>GB</td>\n",
       "      <td>4822.36808</td>\n",
       "      <td>failed</td>\n",
       "      <td>60</td>\n",
       "      <td>1</td>\n",
       "      <td>2013</td>\n",
       "    </tr>\n",
       "    <tr>\n",
       "      <th>3</th>\n",
       "      <td>MAJOR KEY ALERT - Future Heroes is a Denver ra...</td>\n",
       "      <td>US</td>\n",
       "      <td>500.00000</td>\n",
       "      <td>successful</td>\n",
       "      <td>19</td>\n",
       "      <td>2</td>\n",
       "      <td>2016</td>\n",
       "    </tr>\n",
       "    <tr>\n",
       "      <th>4</th>\n",
       "      <td>We're traveling to Rhode Island to film Mako a...</td>\n",
       "      <td>US</td>\n",
       "      <td>2500.00000</td>\n",
       "      <td>successful</td>\n",
       "      <td>30</td>\n",
       "      <td>6</td>\n",
       "      <td>2016</td>\n",
       "    </tr>\n",
       "  </tbody>\n",
       "</table>\n",
       "</div>"
      ],
      "text/plain": [
       "                                               blurb country         goal  \\\n",
       "0  Funding the mixing, mastering, and promotion o...      US   5000.00000   \n",
       "1  We follow the challenges and achievements of g...      US  24042.00000   \n",
       "2  Task No.1 is inspired by the history and expre...      GB   4822.36808   \n",
       "3  MAJOR KEY ALERT - Future Heroes is a Denver ra...      US    500.00000   \n",
       "4  We're traveling to Rhode Island to film Mako a...      US   2500.00000   \n",
       "\n",
       "        state  days_to_state_change  month_launched  year_launched  \n",
       "0  successful                    30               3           2016  \n",
       "1  successful                    26               6           2017  \n",
       "2      failed                    60               1           2013  \n",
       "3  successful                    19               2           2016  \n",
       "4  successful                    30               6           2016  "
      ]
     },
     "execution_count": 14,
     "metadata": {},
     "output_type": "execute_result"
    }
   ],
   "source": [
    "frame.head()"
   ]
  },
  {
   "cell_type": "code",
   "execution_count": 17,
   "metadata": {
    "collapsed": false
   },
   "outputs": [],
   "source": [
    "frame = frame.dropna()"
   ]
  },
  {
   "cell_type": "code",
   "execution_count": null,
   "metadata": {
    "collapsed": true
   },
   "outputs": [],
   "source": []
  }
 ],
 "metadata": {
  "kernelspec": {
   "display_name": "Python 3",
   "language": "python",
   "name": "python3"
  },
  "language_info": {
   "codemirror_mode": {
    "name": "ipython",
    "version": 3
   },
   "file_extension": ".py",
   "mimetype": "text/x-python",
   "name": "python",
   "nbconvert_exporter": "python",
   "pygments_lexer": "ipython3",
   "version": "3.6.0"
  }
 },
 "nbformat": 4,
 "nbformat_minor": 2
}
